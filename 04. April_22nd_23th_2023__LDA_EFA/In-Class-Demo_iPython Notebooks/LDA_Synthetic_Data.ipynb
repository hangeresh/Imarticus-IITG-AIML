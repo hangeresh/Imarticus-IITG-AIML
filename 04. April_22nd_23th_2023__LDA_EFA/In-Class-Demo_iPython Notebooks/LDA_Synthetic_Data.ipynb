{
  "nbformat": 4,
  "nbformat_minor": 0,
  "metadata": {
    "colab": {
      "provenance": []
    },
    "kernelspec": {
      "name": "python3",
      "display_name": "Python 3"
    },
    "language_info": {
      "name": "python"
    }
  },
  "cells": [
    {
      "cell_type": "markdown",
      "source": [
        "## Apply LDA for feature dimension reduction followed by Logistic Regression - compare the results - to decide the dimensionality of feature in the lower-dimension.\n"
      ],
      "metadata": {
        "id": "att0lf0pP7Qu"
      }
    },
    {
      "cell_type": "code",
      "execution_count": 3,
      "metadata": {
        "id": "LDbeK5tsP6zI"
      },
      "outputs": [],
      "source": [
        "import numpy as np\n",
        "\n",
        "from sklearn.datasets import make_classification\n",
        "\n",
        "from sklearn.model_selection import cross_val_score\n",
        "\n",
        "from sklearn.model_selection import RepeatedStratifiedKFold\n",
        "\n",
        "from sklearn.pipeline import Pipeline\n",
        "\n",
        "from sklearn.discriminant_analysis import LinearDiscriminantAnalysis\n",
        "\n",
        "from sklearn.linear_model import LogisticRegression\n",
        "\n",
        "from matplotlib import pyplot"
      ]
    },
    {
      "cell_type": "markdown",
      "source": [
        "We will create a Pipeline to first perform LDA to project the data into a lower-dimensional space (with diffirent values of n_components in the LDA object), sunsequently train a LogisticRegression classifier on the at lower-dimensonal data."
      ],
      "metadata": {
        "id": "LqisNEv-SkQX"
      }
    },
    {
      "cell_type": "code",
      "source": [
        "# Generate synthetic data\n",
        "def get_dataset():\n",
        "  X, y = make_classification(n_samples=1000, n_features=20, n_informative=15, \n",
        "                      n_redundant=5, random_state=100, n_classes=10 )\n",
        "  return X, y"
      ],
      "metadata": {
        "id": "Oc5VIHaWSQ5v"
      },
      "execution_count": 4,
      "outputs": []
    },
    {
      "cell_type": "code",
      "source": [
        "from sklearn import model_selection\n",
        "\n",
        "# Get a list of model to evaluate\n",
        "\n",
        "def get_models():\n",
        "  models = dict()\n",
        "  for i in range (1, 10):\n",
        "    steps = [('lda', LinearDiscriminantAnalysis(n_components=i)),\n",
        "             ('lr', LogisticRegression())]\n",
        "    models[str(i)] = Pipeline(steps=steps)\n",
        "  return models\n",
        "\n"
      ],
      "metadata": {
        "id": "PRtZEUCiVHwb"
      },
      "execution_count": 5,
      "outputs": []
    },
    {
      "cell_type": "code",
      "source": [
        "# Evaluate a given model using cross-validation\n",
        "def evaluate_model(model, X, y):\n",
        "\n",
        "  cv = RepeatedStratifiedKFold(n_splits=10, n_repeats=3, random_state=1)\n",
        "  score = cross_val_score(model, X, y, scoring='accuracy', cv=cv, n_jobs=-1)\n",
        "  return score"
      ],
      "metadata": {
        "id": "FZdC_a3gWEA1"
      },
      "execution_count": 10,
      "outputs": []
    },
    {
      "cell_type": "code",
      "source": [
        "\n",
        "# Generate data\n",
        "X, y = get_dataset()\n",
        "\n",
        "\n",
        "# get  models to evalutae\n",
        "models = get_models()\n",
        "\n",
        "\n",
        "# evaluate the models and stote results\n",
        "\n",
        "results, names = list(), list()\n",
        "\n",
        "for name, model in models.items():\n",
        "  scores = evaluate_model(model, X, y)\n",
        "  results.append(scores)\n",
        "  names.append(name)\n",
        "  print('>%s %.3f (%.3f)' % (name, np.mean(scores), np.std(scores)))\n"
      ],
      "metadata": {
        "colab": {
          "base_uri": "https://localhost:8080/"
        },
        "id": "nmB9_2uyYTA5",
        "outputId": "6bb4e573-e650-4345-b380-5f9773b33326"
      },
      "execution_count": 14,
      "outputs": [
        {
          "output_type": "stream",
          "name": "stdout",
          "text": [
            ">1 0.166 (0.025)\n",
            ">2 0.237 (0.039)\n",
            ">3 0.297 (0.041)\n",
            ">4 0.324 (0.039)\n",
            ">5 0.340 (0.044)\n",
            ">6 0.341 (0.047)\n",
            ">7 0.351 (0.049)\n",
            ">8 0.357 (0.045)\n",
            ">9 0.365 (0.045)\n"
          ]
        }
      ]
    },
    {
      "cell_type": "code",
      "source": [
        "pyplot.boxplot(results, labels=names, showmeans=True)\n",
        "pyplot.show()\n"
      ],
      "metadata": {
        "colab": {
          "base_uri": "https://localhost:8080/",
          "height": 430
        },
        "id": "KJotCzv7aS7E",
        "outputId": "53cdecbe-ad83-4918-dcff-8b6ae4649471"
      },
      "execution_count": 13,
      "outputs": [
        {
          "output_type": "display_data",
          "data": {
            "text/plain": [
              "<Figure size 640x480 with 1 Axes>"
            ],
            "image/png": "[encoded data removed]"
          },
          "metadata": {}
        }
      ]
    }
  ]
}