{
  "nbformat": 4,
  "nbformat_minor": 0,
  "metadata": {
    "colab": {
      "provenance": []
    },
    "kernelspec": {
      "name": "python3",
      "display_name": "Python 3"
    },
    "language_info": {
      "name": "python"
    }
  },
  "cells": [
    {
      "cell_type": "code",
      "source": [
        "# Helper functions\n",
        "\n",
        "from typing import List\n",
        "Vector = List[float]\n",
        "def sum_of_squares(v: Vector) -> float:\n",
        "    \"\"\"Returns v_1 * v_1 + ... + v_n * v_n\"\"\"\n",
        "    return dot(v, v)\n",
        "\n",
        "def dot(v: Vector, w: Vector) -> float:\n",
        "    \"\"\"Computes v_1 * w_1 + ... + v_n * w_n\"\"\"\n",
        "    assert len(v) == len(w), \"vectors must be same length\"\n",
        "\n",
        "    return sum(v_i * w_i for v_i, w_i in zip(v, w))\n",
        "\n",
        "\n",
        "assert sum_of_squares([1, 2, 3]) == 14  # 1 * 1 + 2 * 2 + 3 * 3"
      ],
      "metadata": {
        "id": "b_h25nkp2d4v"
      },
      "execution_count": 77,
      "outputs": []
    },
    {
      "cell_type": "code",
      "execution_count": 78,
      "metadata": {
        "id": "NCb7xqqzyzhx"
      },
      "outputs": [],
      "source": [
        "import math\n",
        "from collections import Counter\n",
        "import matplotlib.pyplot as plt"
      ]
    },
    {
      "cell_type": "code",
      "source": [
        "# Generate synthetic data\n",
        "num_friends = [100,49,41,40,25,21,21,19,19,18,18,16,15,15,15,15,14,14,13,13,13,13,12,12,11,10,10,10,10,10,10,10,10,10,10,10,10,10,10,10,9,9,9,9,9,9,9,9,9,9,9,9,9,9,9,9,9,9,8,8,8,8,8,8,8,8,8,8,8,8,8,7,7,7,7,7,7,7,7,7,7,7,7,7,7,7,6,6,6,6,6,6,6,6,6,6,6,6,6,6,6,6,6,6,6,6,6,6,5,5,5,5,5,5,5,5,5,5,5,5,5,5,5,5,5,4,4,4,4,4,4,4,4,4,4,4,4,4,4,4,4,4,4,4,4,3,3,3,3,3,3,3,3,3,3,3,3,3,3,3,3,3,3,3,3,2,2,2,2,2,2,2,2,2,2,2,2,2,2,2,2,2,1,1,1,1,1,1,1,1,1,1,1,1,1,1,1,1,1,1,1,1,1,1]\n",
        "\n",
        "friend_counts = Counter(num_friends)\n",
        "\n",
        "xs = range(101)                         # largest value is 100\n",
        "ys = [friend_counts[x] for x in xs]     # height is just # of friends\n",
        "plt.bar(xs, ys)\n",
        "plt.axis([0, 101, 0, 25])\n",
        "plt.title(\"Histogram of Friend Counts\")\n",
        "plt.xlabel(\"# of friends\")\n",
        "plt.ylabel(\"# of people\")\n",
        "# plt.show()\n"
      ],
      "metadata": {
        "colab": {
          "base_uri": "https://localhost:8080/",
          "height": 312
        },
        "id": "YJLBp_r33BNK",
        "outputId": "4b786d01-2ba3-4850-bde7-4330a599f2bc"
      },
      "execution_count": 79,
      "outputs": [
        {
          "output_type": "execute_result",
          "data": {
            "text/plain": [
              "Text(0, 0.5, '# of people')"
            ]
          },
          "metadata": {},
          "execution_count": 79
        },
        {
          "output_type": "display_data",
          "data": {
            "text/plain": [
              "<Figure size 432x288 with 1 Axes>"
            ],
            "image/png": "[encoded data removed]"
          },
          "metadata": {
            "needs_background": "light"
          }
        }
      ]
    },
    {
      "cell_type": "code",
      "source": [
        "num_points = len(num_friends)\n",
        "print(num_points)"
      ],
      "metadata": {
        "colab": {
          "base_uri": "https://localhost:8080/"
        },
        "id": "_f86UJcuz33R",
        "outputId": "6be3ef20-feb5-4f56-ed70-ceba60f8ac09"
      },
      "execution_count": 80,
      "outputs": [
        {
          "output_type": "stream",
          "name": "stdout",
          "text": [
            "204\n"
          ]
        }
      ]
    },
    {
      "cell_type": "markdown",
      "source": [
        "# Central Tendencies"
      ],
      "metadata": {
        "id": "Q8Lyz08_4Q46"
      }
    },
    {
      "cell_type": "code",
      "source": [
        "def mean(v):\n",
        "  \"\"\"finds the 'average' value of v\"\"\"\n",
        "  return sum(v)/len(v)\n",
        "  \n",
        "def median(v):\n",
        "  \"\"\"finds the 'middle-most' value of v\"\"\"\n",
        "  n = len(v)\n",
        "  sorted_v = sorted(v)\n",
        "  midpoint = n // 2\n",
        "  if n % 2 == 1:\n",
        "  # if odd, return the middle value\n",
        "    return sorted_v[midpoint]\n",
        "  else:\n",
        "    # if even, return the average of the middle values\n",
        "    lo = midpoint - 1\n",
        "    hi = midpoint\n",
        "    return (sorted_v[lo] + sorted_v[hi]) / 2\n"
      ],
      "metadata": {
        "id": "J71F2UN7z9C_"
      },
      "execution_count": 81,
      "outputs": []
    },
    {
      "cell_type": "code",
      "source": [
        "mean(num_friends)"
      ],
      "metadata": {
        "colab": {
          "base_uri": "https://localhost:8080/"
        },
        "id": "64KDaxHM8kVe",
        "outputId": "1d8cb359-0976-400b-c183-4dd61e038da8"
      },
      "execution_count": 82,
      "outputs": [
        {
          "output_type": "execute_result",
          "data": {
            "text/plain": [
              "7.333333333333333"
            ]
          },
          "metadata": {},
          "execution_count": 82
        }
      ]
    },
    {
      "cell_type": "code",
      "source": [
        "median(num_friends)"
      ],
      "metadata": {
        "colab": {
          "base_uri": "https://localhost:8080/"
        },
        "id": "OGXCcR5b4iO3",
        "outputId": "896a90c6-c22d-4fdc-de37-39bd0d4d5469"
      },
      "execution_count": 83,
      "outputs": [
        {
          "output_type": "execute_result",
          "data": {
            "text/plain": [
              "6.0"
            ]
          },
          "metadata": {},
          "execution_count": 83
        }
      ]
    },
    {
      "cell_type": "code",
      "source": [
        "def quantile(x, p):\n",
        "  \"\"\"returns the pth-percentile value in x\"\"\"\n",
        "  p_index = int(p * len(x))\n",
        "  return sorted(x)[p_index]\n"
      ],
      "metadata": {
        "id": "BCJJptW40LOl"
      },
      "execution_count": 84,
      "outputs": []
    },
    {
      "cell_type": "code",
      "source": [
        "quantile(num_friends, 0.10) # 1\n"
      ],
      "metadata": {
        "colab": {
          "base_uri": "https://localhost:8080/"
        },
        "id": "KQvlMjXR4mUl",
        "outputId": "4b99f266-4b3d-4262-a8a3-d71d603325b8"
      },
      "execution_count": 85,
      "outputs": [
        {
          "output_type": "execute_result",
          "data": {
            "text/plain": [
              "1"
            ]
          },
          "metadata": {},
          "execution_count": 85
        }
      ]
    },
    {
      "cell_type": "code",
      "source": [
        "quantile(num_friends, 0.25) # 3"
      ],
      "metadata": {
        "colab": {
          "base_uri": "https://localhost:8080/"
        },
        "id": "KkNEkKls4ol2",
        "outputId": "59e9bf86-1c06-43f8-f155-80a7984c4929"
      },
      "execution_count": 86,
      "outputs": [
        {
          "output_type": "execute_result",
          "data": {
            "text/plain": [
              "3"
            ]
          },
          "metadata": {},
          "execution_count": 86
        }
      ]
    },
    {
      "cell_type": "code",
      "source": [
        "quantile(num_friends, 0.75) # 9"
      ],
      "metadata": {
        "colab": {
          "base_uri": "https://localhost:8080/"
        },
        "id": "l0hnWlZ74qHf",
        "outputId": "b6ce48f3-9862-4eb5-a874-9960a9256002"
      },
      "execution_count": 87,
      "outputs": [
        {
          "output_type": "execute_result",
          "data": {
            "text/plain": [
              "9"
            ]
          },
          "metadata": {},
          "execution_count": 87
        }
      ]
    },
    {
      "cell_type": "code",
      "source": [
        "quantile(num_friends, 0.90) # 13"
      ],
      "metadata": {
        "colab": {
          "base_uri": "https://localhost:8080/"
        },
        "id": "6hrlWqoA4thG",
        "outputId": "6f4fc444-3993-4eda-eefc-a03ab0061f3a"
      },
      "execution_count": 88,
      "outputs": [
        {
          "output_type": "execute_result",
          "data": {
            "text/plain": [
              "13"
            ]
          },
          "metadata": {},
          "execution_count": 88
        }
      ]
    },
    {
      "cell_type": "code",
      "source": [
        "def mode(x):\n",
        "  \"\"\"returns a list, might be more than one mode\"\"\"\n",
        "  counts = Counter(x)\n",
        "  max_count = max(counts.values())\n",
        "  return [x_i for x_i, count in counts.items() if count == max_count]\n",
        "\n",
        "mode(num_friends)"
      ],
      "metadata": {
        "colab": {
          "base_uri": "https://localhost:8080/"
        },
        "id": "_aXsa1Z30RM8",
        "outputId": "e28c1563-7bc8-447a-bae5-8500b93b4205"
      },
      "execution_count": 89,
      "outputs": [
        {
          "output_type": "execute_result",
          "data": {
            "text/plain": [
              "[6, 1]"
            ]
          },
          "metadata": {},
          "execution_count": 89
        }
      ]
    },
    {
      "cell_type": "markdown",
      "source": [
        "## Dispersion"
      ],
      "metadata": {
        "id": "42k0BVrn09JW"
      }
    },
    {
      "cell_type": "code",
      "source": [
        "# \"range\" already means something in Python, so we'll use a different name\n",
        "def data_range(x):\n",
        "  return max(x) - min(x)\n",
        "data_range(num_friends) # 99"
      ],
      "metadata": {
        "colab": {
          "base_uri": "https://localhost:8080/"
        },
        "id": "cYXwGwEc0-rX",
        "outputId": "74b27bfa-3d6e-47ee-c361-39917d3d8a22"
      },
      "execution_count": 90,
      "outputs": [
        {
          "output_type": "execute_result",
          "data": {
            "text/plain": [
              "99"
            ]
          },
          "metadata": {},
          "execution_count": 90
        }
      ]
    },
    {
      "cell_type": "code",
      "source": [
        "def de_mean(x):\n",
        "  \"\"\"translate x by subtracting its mean (so the result has mean 0)\"\"\"\n",
        "  x_bar = mean(x)\n",
        "  return [x_i - x_bar for x_i in x]\n",
        "\n",
        "def variance(x):\n",
        "  \"\"\"assumes x has at least two elements\"\"\"\n",
        "  n = len(x)\n",
        "  deviations = de_mean(x)\n",
        "  return sum_of_squares(deviations) / (n - 1)\n",
        "\n",
        "variance(num_friends) # 81.54"
      ],
      "metadata": {
        "colab": {
          "base_uri": "https://localhost:8080/"
        },
        "id": "_8hQE7681DwH",
        "outputId": "ae2fa11d-1e18-4a30-b4b9-79b12564ab26"
      },
      "execution_count": 91,
      "outputs": [
        {
          "output_type": "execute_result",
          "data": {
            "text/plain": [
              "81.54351395730716"
            ]
          },
          "metadata": {},
          "execution_count": 91
        }
      ]
    },
    {
      "cell_type": "code",
      "source": [
        "def standard_deviation(x):\n",
        "  return math.sqrt(variance(x))\n",
        "standard_deviation(num_friends) # 9.03"
      ],
      "metadata": {
        "colab": {
          "base_uri": "https://localhost:8080/"
        },
        "id": "rL5byWJO1YBD",
        "outputId": "178703b6-7a77-48d1-8815-faa7e2208491"
      },
      "execution_count": 92,
      "outputs": [
        {
          "output_type": "execute_result",
          "data": {
            "text/plain": [
              "9.03014473623248"
            ]
          },
          "metadata": {},
          "execution_count": 92
        }
      ]
    },
    {
      "cell_type": "code",
      "source": [
        "def interquartile_range(x):\n",
        "  return quantile(x, 0.75) - quantile(x, 0.25)\n",
        "\n",
        "interquartile_range(num_friends) # 6"
      ],
      "metadata": {
        "colab": {
          "base_uri": "https://localhost:8080/"
        },
        "id": "Zcyh0_2V1dnQ",
        "outputId": "74229e80-6353-40ff-e3c0-207d26d5fce4"
      },
      "execution_count": 93,
      "outputs": [
        {
          "output_type": "execute_result",
          "data": {
            "text/plain": [
              "6"
            ]
          },
          "metadata": {},
          "execution_count": 93
        }
      ]
    },
    {
      "cell_type": "markdown",
      "source": [
        "# Correlation"
      ],
      "metadata": {
        "id": "hDgLTatF1jh2"
      }
    },
    {
      "cell_type": "code",
      "source": [
        "daily_minutes = [1,68.77,51.25,52.08,38.36,44.54,57.13,51.4,41.42,31.22,34.76,54.01,38.79,47.59,49.1,27.66,41.03,36.73,48.65,28.12,46.62,35.57,32.98,35,26.07,23.77,39.73,40.57,31.65,31.21,36.32,20.45,21.93,26.02,27.34,23.49,46.94,30.5,33.8,24.23,21.4,27.94,32.24,40.57,25.07,19.42,22.39,18.42,46.96,23.72,26.41,26.97,36.76,40.32,35.02,29.47,30.2,31,38.11,38.18,36.31,21.03,30.86,36.07,28.66,29.08,37.28,15.28,24.17,22.31,30.17,25.53,19.85,35.37,44.6,17.23,13.47,26.33,35.02,32.09,24.81,19.33,28.77,24.26,31.98,25.73,24.86,16.28,34.51,15.23,39.72,40.8,26.06,35.76,34.76,16.13,44.04,18.03,19.65,32.62,35.59,39.43,14.18,35.24,40.13,41.82,35.45,36.07,43.67,24.61,20.9,21.9,18.79,27.61,27.21,26.61,29.77,20.59,27.53,13.82,33.2,25,33.1,36.65,18.63,14.87,22.2,36.81,25.53,24.62,26.25,18.21,28.08,19.42,29.79,32.8,35.99,28.32,27.79,35.88,29.06,36.28,14.1,36.63,37.49,26.9,18.58,38.48,24.48,18.95,33.55,14.24,29.04,32.51,25.63,22.22,19,32.73,15.16,13.9,27.2,32.01,29.27,33,13.74,20.42,27.32,18.23,35.35,28.48,9.08,24.62,20.12,35.26,19.92,31.02,16.49,12.16,30.7,31.22,34.65,13.13,27.51,33.2,31.57,14.1,33.42,17.44,10.12,24.42,9.82,23.39,30.93,15.03,21.67,31.09,33.29,22.61,26.89,23.48,8.38,27.81,32.35,23.84]\n",
        "\n",
        "daily_hours = [dm / 60 for dm in daily_minutes]"
      ],
      "metadata": {
        "id": "WeTL6RFh3R_x"
      },
      "execution_count": 94,
      "outputs": []
    },
    {
      "cell_type": "code",
      "source": [
        "len(daily_minutes)"
      ],
      "metadata": {
        "colab": {
          "base_uri": "https://localhost:8080/"
        },
        "id": "kAW00piwQqNo",
        "outputId": "3a2d4fd9-ef29-406e-9a7f-0acd7d9134b5"
      },
      "execution_count": 95,
      "outputs": [
        {
          "output_type": "execute_result",
          "data": {
            "text/plain": [
              "204"
            ]
          },
          "metadata": {},
          "execution_count": 95
        }
      ]
    },
    {
      "cell_type": "code",
      "source": [
        "def covariance(x, y):\n",
        "  n = len(x)\n",
        "  return dot(de_mean(x), de_mean(y)) / (n - 1)\n"
      ],
      "metadata": {
        "id": "PWJkzd1h1inh"
      },
      "execution_count": 96,
      "outputs": []
    },
    {
      "cell_type": "code",
      "source": [
        "covariance(num_friends, daily_minutes) # 22.43"
      ],
      "metadata": {
        "colab": {
          "base_uri": "https://localhost:8080/"
        },
        "id": "6iARprry8zvg",
        "outputId": "132122a6-3685-4c86-d1c3-36127b96d65c"
      },
      "execution_count": 97,
      "outputs": [
        {
          "output_type": "execute_result",
          "data": {
            "text/plain": [
              "22.425435139573064"
            ]
          },
          "metadata": {},
          "execution_count": 97
        }
      ]
    },
    {
      "cell_type": "code",
      "source": [
        "def correlation(x, y):\n",
        "  stdev_x = standard_deviation(x)\n",
        "  stdev_y = standard_deviation(y)\n",
        "  if stdev_x > 0 and stdev_y > 0:\n",
        "    return covariance(x, y) / (stdev_x * stdev_y)\n",
        "  else:\n",
        "    return 0 # if no variation, correlation is zero\n"
      ],
      "metadata": {
        "id": "-PVnRbce1tA6"
      },
      "execution_count": 98,
      "outputs": []
    },
    {
      "cell_type": "code",
      "source": [
        "correlation(num_friends, daily_minutes) # 0.25"
      ],
      "metadata": {
        "colab": {
          "base_uri": "https://localhost:8080/"
        },
        "id": "wOCl-qhg81zo",
        "outputId": "5b576103-1b69-4b79-82b7-00782abde458"
      },
      "execution_count": 99,
      "outputs": [
        {
          "output_type": "execute_result",
          "data": {
            "text/plain": [
              "0.24736957366478216"
            ]
          },
          "metadata": {},
          "execution_count": 99
        }
      ]
    },
    {
      "cell_type": "code",
      "source": [
        "import numpy as np\n",
        "np.corrcoef(num_friends, daily_minutes)"
      ],
      "metadata": {
        "colab": {
          "base_uri": "https://localhost:8080/"
        },
        "id": "wZGTsSc7lTpv",
        "outputId": "9c2a1771-ddfb-43ad-d794-b7a9f64a6601"
      },
      "execution_count": 100,
      "outputs": [
        {
          "output_type": "execute_result",
          "data": {
            "text/plain": [
              "array([[1.        , 0.24736957],\n",
              "       [0.24736957, 1.        ]])"
            ]
          },
          "metadata": {},
          "execution_count": 100
        }
      ]
    },
    {
      "cell_type": "markdown",
      "source": [
        "# Correlation after removing the Outlier"
      ],
      "metadata": {
        "id": "yVdF2Rd8-jhP"
      }
    },
    {
      "cell_type": "code",
      "source": [
        "plt.scatter(num_friends, daily_minutes)\n",
        "plt.xlabel(\"Number of Friends\")\n",
        "plt.ylabel(\"Daily Minutes Spent\")"
      ],
      "metadata": {
        "colab": {
          "base_uri": "https://localhost:8080/",
          "height": 296
        },
        "id": "qak3AV30-s_h",
        "outputId": "74ef04c3-ba56-454d-8ab0-24ba9998e170"
      },
      "execution_count": 101,
      "outputs": [
        {
          "output_type": "execute_result",
          "data": {
            "text/plain": [
              "Text(0, 0.5, 'Daily Minutes Spent')"
            ]
          },
          "metadata": {},
          "execution_count": 101
        },
        {
          "output_type": "display_data",
          "data": {
            "text/plain": [
              "<Figure size 432x288 with 1 Axes>"
            ],
            "image/png": "[encoded data removed]"
          },
          "metadata": {
            "needs_background": "light"
          }
        }
      ]
    },
    {
      "cell_type": "code",
      "source": [
        "'''\n",
        "# Save friends data to a csv file\n",
        "import pandas as pd\n",
        "df = pd.DataFrame({\"Numer of Friends\": num_friends, \"Daily Minutes Spent in Online Meetings\": daily_minutes} )\n",
        "df\n",
        "df.info()\n",
        "df.describe()\n",
        "df.to_csv(\"Friends.csv\")\n",
        "'''"
      ],
      "metadata": {
        "colab": {
          "base_uri": "https://localhost:8080/",
          "height": 53
        },
        "id": "m3U_yIaVnvfm",
        "outputId": "8606d60f-3a77-4ae4-e473-b13a4d6602bb"
      },
      "execution_count": 102,
      "outputs": [
        {
          "output_type": "execute_result",
          "data": {
            "text/plain": [
              "'\\nimport pandas as pd\\ndf = pd.DataFrame({\"Numer of Friends\": num_friends, \"Daily Minutes Spent in Online Meetings\": daily_minutes} )\\ndf\\ndf.info()\\ndf.describe()\\ndf.to_csv(\"Friends.csv\")\\n'"
            ],
            "application/vnd.google.colaboratory.intrinsic+json": {
              "type": "string"
            }
          },
          "metadata": {},
          "execution_count": 102
        }
      ]
    },
    {
      "cell_type": "code",
      "source": [
        "outlier = num_friends.index(100) # index of outlier\n",
        "print(outlier)\n",
        "num_friends_good = [x for i, x in enumerate(num_friends) if i != outlier]\n",
        "daily_minutes_good = [x for i, x in enumerate(daily_minutes) if i != outlier]"
      ],
      "metadata": {
        "colab": {
          "base_uri": "https://localhost:8080/"
        },
        "id": "945WXU_u-MgR",
        "outputId": "80c9b2d4-fb09-4d55-b331-fbdb57c9672b"
      },
      "execution_count": 103,
      "outputs": [
        {
          "output_type": "stream",
          "name": "stdout",
          "text": [
            "0\n"
          ]
        }
      ]
    },
    {
      "cell_type": "code",
      "source": [
        "plt.scatter(num_friends_good, daily_minutes_good)\n",
        "plt.xlabel(\"Number of Friends\")\n",
        "plt.ylabel(\"Daily Minutes Spent\")"
      ],
      "metadata": {
        "colab": {
          "base_uri": "https://localhost:8080/",
          "height": 296
        },
        "id": "UKICq9PQAL9P",
        "outputId": "cf6ec774-a095-45e0-fe86-7278c2df7208"
      },
      "execution_count": 104,
      "outputs": [
        {
          "output_type": "execute_result",
          "data": {
            "text/plain": [
              "Text(0, 0.5, 'Daily Minutes Spent')"
            ]
          },
          "metadata": {},
          "execution_count": 104
        },
        {
          "output_type": "display_data",
          "data": {
            "text/plain": [
              "<Figure size 432x288 with 1 Axes>"
            ],
            "image/png": "[encoded data removed]"
          },
          "metadata": {
            "needs_background": "light"
          }
        }
      ]
    },
    {
      "cell_type": "code",
      "source": [
        "correlation(num_friends_good, daily_minutes_good)"
      ],
      "metadata": {
        "colab": {
          "base_uri": "https://localhost:8080/"
        },
        "id": "6dHMt4o7AUld",
        "outputId": "7a6a29e4-8f57-4bb0-868a-87878f9f78ff"
      },
      "execution_count": 105,
      "outputs": [
        {
          "output_type": "execute_result",
          "data": {
            "text/plain": [
              "0.5736792115665573"
            ]
          },
          "metadata": {},
          "execution_count": 105
        }
      ]
    },
    {
      "cell_type": "markdown",
      "source": [
        "# Correlational Caveats"
      ],
      "metadata": {
        "id": "Bc9sd7YP9QKW"
      }
    },
    {
      "cell_type": "markdown",
      "source": [
        "A correlation of zero indicates that there is no linear relationship between the two variables. However, there may be other sorts of relationships.\n",
        "In the following example x and y have zero correlation. \n",
        "\n",
        "But they certainly have a relationship—each element of y equals the absolute value of the corresponding element of x.\n",
        "\n",
        "What they don’t have is a relationship in which knowing how x_i compares to mean(x) gives us information about how y_i compares to mean(y). \n",
        "That is the sort of relationship that correlation looks for.\n"
      ],
      "metadata": {
        "id": "ofKCEp2a9XRW"
      }
    },
    {
      "cell_type": "code",
      "source": [
        "x = [-2, -1, 0, 1, 2]\n",
        "y = [ 2, 1, 0, 1, 2]\n",
        "correlation(x,y)"
      ],
      "metadata": {
        "colab": {
          "base_uri": "https://localhost:8080/"
        },
        "id": "IzNroFT19LVJ",
        "outputId": "1cfc815e-5bdb-4ac0-a0be-aba5fd6c1101"
      },
      "execution_count": 106,
      "outputs": [
        {
          "output_type": "execute_result",
          "data": {
            "text/plain": [
              "0.0"
            ]
          },
          "metadata": {},
          "execution_count": 106
        }
      ]
    },
    {
      "cell_type": "code",
      "source": [
        "import numpy as np\n",
        "x = [-2, -1, 0, 1, 2]\n",
        "#y = [8, 9, 10, 11, 12]    # linear relationship y = x + 10\n",
        "\n",
        "y = [14, 11, 10, 11, 14]   # y=x^2+10  # non linear relationship\n",
        "\n",
        "correlation(x,y)"
      ],
      "metadata": {
        "colab": {
          "base_uri": "https://localhost:8080/"
        },
        "id": "QHyKAojhArz7",
        "outputId": "6d75fb8a-b1f5-46be-f9a6-9c3f7bbde4e5"
      },
      "execution_count": 107,
      "outputs": [
        {
          "output_type": "execute_result",
          "data": {
            "text/plain": [
              "0.0"
            ]
          },
          "metadata": {},
          "execution_count": 107
        }
      ]
    },
    {
      "cell_type": "markdown",
      "source": [
        "In addition, correlation tells you nothing about how strong the relationship is. The variables below are perfectly correlated, but (depending on what you’re measuring) it’s quite possible that this relationship isn’t all that interesting."
      ],
      "metadata": {
        "id": "lavAFihp923N"
      }
    },
    {
      "cell_type": "code",
      "source": [
        "x = [-2, 1, 0, 1, 2]\n",
        "y = [99.98, 99.99, 100, 100.01, 100.02]  # y = 100 + x/100\n",
        "correlation(x,y)"
      ],
      "metadata": {
        "colab": {
          "base_uri": "https://localhost:8080/"
        },
        "id": "ESe2Ftli14PA",
        "outputId": "9d6d7b57-76f3-4a35-bc7f-3df5caefafba"
      },
      "execution_count": 108,
      "outputs": [
        {
          "output_type": "execute_result",
          "data": {
            "text/plain": [
              "0.8340576562281805"
            ]
          },
          "metadata": {},
          "execution_count": 108
        }
      ]
    }
  ]
}