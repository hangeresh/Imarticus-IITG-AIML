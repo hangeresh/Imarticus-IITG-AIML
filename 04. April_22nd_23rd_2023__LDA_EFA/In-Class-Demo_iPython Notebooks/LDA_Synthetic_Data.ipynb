{
  "nbformat": 4,
  "nbformat_minor": 0,
  "metadata": {
    "colab": {
      "provenance": []
    },
    "kernelspec": {
      "name": "python3",
      "display_name": "Python 3"
    },
    "language_info": {
      "name": "python"
    }
  },
  "cells": [
    {
      "cell_type": "markdown",
      "source": [
        "# Apply LDA for Feature Dimension Reduction followed by Classification by LogisticRegression - Comparing Results"
      ],
      "metadata": {
        "id": "Z1l3jHYfrPlc"
      }
    },
    {
      "cell_type": "code",
      "source": [
        "# compare lda number of components with naive bayes algorithm for classification\n",
        "from numpy import mean\n",
        "from numpy import std\n",
        "from sklearn.datasets import make_classification\n",
        "from sklearn.model_selection import cross_val_score\n",
        "from sklearn.model_selection import RepeatedStratifiedKFold\n",
        "from sklearn.pipeline import Pipeline\n",
        "from sklearn.discriminant_analysis import LinearDiscriminantAnalysis\n",
        "#from sklearn.naive_bayes import GaussianNB\n",
        "from sklearn.linear_model import LogisticRegression\n",
        "\n",
        "from matplotlib import pyplot"
      ],
      "metadata": {
        "id": "zlFNUt0XZlHI"
      },
      "execution_count": null,
      "outputs": []
    },
    {
      "cell_type": "markdown",
      "source": [
        "We will use a Pipeline where the first step performs the LDA transform and selects the five most important dimensions or components, then fits a LogisticRegression model on these features. We don’t need to standardize the variables on this dataset, as all variables have the same scale by design.\n",
        "\n",
        "The pipeline will be evaluated using repeated stratified cross-validation with three repeats and 10 folds per repeat. Performance is presented as the mean classification accuracy."
      ],
      "metadata": {
        "id": "tM9ou1qYueMi"
      }
    },
    {
      "cell_type": "code",
      "execution_count": null,
      "metadata": {
        "id": "E8EvRzvKZdKB"
      },
      "outputs": [],
      "source": [
        "# get the dataset\n",
        "def get_dataset():\n",
        "\tX, y = make_classification(n_samples=1000, n_features=20, n_informative=15, \n",
        "\t                           n_redundant=5, random_state=7, n_classes=10)\n",
        "\treturn X, y\n",
        "\n",
        "# get a list of models to evaluate\n",
        "def get_models():\n",
        "\tmodels = dict()\n",
        "\tfor i in range(1,10):\n",
        "\t\tsteps = [('lda', LinearDiscriminantAnalysis(n_components=i)), \n",
        "\t\t         ('lr', LogisticRegression())]\n",
        "\t\tmodels[str(i)] = Pipeline(steps=steps)\n",
        "\treturn models\n",
        "\n",
        "# evaluate a give model using cross-validation\n",
        "def evaluate_model(model, X, y):\n",
        "\tcv = RepeatedStratifiedKFold(n_splits=10, n_repeats=3, random_state=1)\n",
        "\tscores = cross_val_score(model, X, y, scoring='accuracy', cv=cv, n_jobs=-1, error_score='raise')\n",
        "\treturn scores\n"
      ]
    },
    {
      "cell_type": "code",
      "source": [
        "# define dataset\n",
        "X, y = get_dataset()\n",
        "\n",
        "# get the models to evaluate\n",
        "models = get_models()\n",
        "\n",
        "# evaluate the models and store results\n",
        "results, names = list(), list()\n",
        "\n",
        "for name, model in models.items():\n",
        "\tscores = evaluate_model(model, X, y)\n",
        "\tresults.append(scores)\n",
        "\tnames.append(name)\n",
        "\tprint('>%s %.3f (%.3f)' % (name, mean(scores), std(scores)))\n",
        " \n",
        "# plot model performance for comparison\n",
        "pyplot.boxplot(results, labels=names, showmeans=True)\n",
        "pyplot.show()"
      ],
      "metadata": {
        "colab": {
          "base_uri": "https://localhost:8080/",
          "height": 596
        },
        "id": "yxAouaKtZjmj",
        "outputId": "ff408ad7-922e-4009-d32d-7a85a3487bd4"
      },
      "execution_count": null,
      "outputs": [
        {
          "output_type": "stream",
          "name": "stdout",
          "text": [
            ">1 0.182 (0.027)\n",
            ">2 0.215 (0.033)\n",
            ">3 0.245 (0.037)\n",
            ">4 0.294 (0.043)\n",
            ">5 0.310 (0.043)\n",
            ">6 0.305 (0.042)\n",
            ">7 0.325 (0.046)\n",
            ">8 0.335 (0.043)\n",
            ">9 0.327 (0.038)\n"
          ]
        },
        {
          "output_type": "display_data",
          "data": {
            "text/plain": [
              "<Figure size 640x480 with 1 Axes>"
            ],
            "image/png": "[encoded data removed]"
          },
          "metadata": {}
        }
      ]
    },
    {
      "cell_type": "markdown",
      "source": [
        "A box and whisker plot is created for the distribution of accuracy scores for each configured number of dimensions.\n",
        "\n",
        "We can see the trend of increasing classification accuracy with the number of components, with a limit at nine"
      ],
      "metadata": {
        "id": "qyUW8wMMuIN1"
      }
    }
  ]
}