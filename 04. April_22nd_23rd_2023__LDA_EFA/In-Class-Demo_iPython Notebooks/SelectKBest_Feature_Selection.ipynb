{
  "nbformat": 4,
  "nbformat_minor": 0,
  "metadata": {
    "colab": {
      "provenance": []
    },
    "kernelspec": {
      "name": "python3",
      "display_name": "Python 3"
    },
    "language_info": {
      "name": "python"
    }
  },
  "cells": [
    {
      "cell_type": "markdown",
      "source": [
        "## Regression Feature Selection: (Numerical Input, Numerical Output)\n",
        "\n",
        "This section demonstrates feature selection for a regression problem that as numerical inputs and numerical outputs."
      ],
      "metadata": {
        "id": "t1HjM9u7ohgO"
      }
    },
    {
      "cell_type": "code",
      "execution_count": 2,
      "metadata": {
        "id": "YvhuqVPenOVO"
      },
      "outputs": [],
      "source": [
        "# pearson's correlation feature selection for numeric input and numeric output\n",
        "from sklearn.datasets import make_regression\n",
        "from sklearn.feature_selection import SelectKBest\n",
        "from sklearn.feature_selection import f_regression"
      ]
    },
    {
      "cell_type": "markdown",
      "source": [
        "A test regression problem is prepared using the make_regression() function.\n",
        "\n",
        "Feature selection is performed using Pearson’s Correlation Coefficient via the f_regression() function."
      ],
      "metadata": {
        "id": "Kw5G5eneop9h"
      }
    },
    {
      "cell_type": "code",
      "source": [
        "# generate dataset\n",
        "X, y = make_regression(n_samples=100, n_features=100, n_informative=10)\n",
        "\n",
        "# define feature selection\n",
        "fs = SelectKBest(score_func=f_regression, k=10)\n",
        "\n",
        "# apply feature selection\n",
        "X_selected = fs.fit_transform(X, y)\n",
        "print(X_selected.shape)"
      ],
      "metadata": {
        "colab": {
          "base_uri": "https://localhost:8080/"
        },
        "id": "nXaIKcTUoUQI",
        "outputId": "e383a62c-d0c6-4fa5-9a55-2de0d3bf39af"
      },
      "execution_count": 3,
      "outputs": [
        {
          "output_type": "stream",
          "name": "stdout",
          "text": [
            "(100, 10)\n"
          ]
        }
      ]
    },
    {
      "cell_type": "markdown",
      "source": [
        "## Classification Feature Selection: (Numerical Input, Categorical Output)\n",
        "\n",
        "This section demonstrates feature selection for a classification problem that as numerical inputs and categorical outputs.\n"
      ],
      "metadata": {
        "id": "dzw77mILovly"
      }
    },
    {
      "cell_type": "markdown",
      "source": [
        "\n",
        "A test regression problem is prepared using the make_classification() function.\n",
        "\n",
        "Feature selection is performed using ANOVA F measure via the f_classif() function."
      ],
      "metadata": {
        "id": "7Sg3ubtXo7Re"
      }
    },
    {
      "cell_type": "code",
      "source": [
        "# ANOVA feature selection for numeric input and categorical output\n",
        "from sklearn.datasets import make_classification\n",
        "from sklearn.feature_selection import SelectKBest\n",
        "from sklearn.feature_selection import f_classif\n",
        "\n",
        "# generate dataset\n",
        "X, y = make_classification(n_samples=100, n_features=20, n_informative=2)\n",
        "\n",
        "# define feature selection\n",
        "fs = SelectKBest(score_func=f_classif, k=2)\n",
        "\n",
        "# apply feature selection\n",
        "X_selected = fs.fit_transform(X, y)\n",
        "print(X_selected.shape)"
      ],
      "metadata": {
        "colab": {
          "base_uri": "https://localhost:8080/"
        },
        "id": "rvbf0hghovCp",
        "outputId": "218ed663-a4ad-4bf5-9f2b-594df30c3b16"
      },
      "execution_count": 4,
      "outputs": [
        {
          "output_type": "stream",
          "name": "stdout",
          "text": [
            "(100, 2)\n"
          ]
        }
      ]
    }
  ]
}