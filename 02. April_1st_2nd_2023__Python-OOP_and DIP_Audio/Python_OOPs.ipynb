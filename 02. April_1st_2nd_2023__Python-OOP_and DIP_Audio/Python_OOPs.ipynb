{
  "nbformat": 4,
  "nbformat_minor": 0,
  "metadata": {
    "colab": {
      "provenance": []
    },
    "kernelspec": {
      "name": "python3",
      "display_name": "Python 3"
    },
    "language_info": {
      "name": "python"
    }
  },
  "cells": [
    {
      "cell_type": "markdown",
      "source": [
        "# **OOP and Other concepts in Python**"
      ],
      "metadata": {
        "id": "w17K8cjWLnEY"
      }
    },
    {
      "cell_type": "markdown",
      "source": [
        "# Class and Objects"
      ],
      "metadata": {
        "id": "iN5wFO3GLwtI"
      }
    },
    {
      "cell_type": "code",
      "source": [
        "class MyClass:\n",
        "    \"\"\"A simple example class\"\"\"\n",
        "    i = 12345\n",
        "\n",
        "    def f(self):\n",
        "        return 'hello world'\n",
        "        \n",
        "print(MyClass.__doc__)\n",
        "print(MyClass.i)\n",
        "print(MyClass.f)"
      ],
      "metadata": {
        "colab": {
          "base_uri": "https://localhost:8080/"
        },
        "id": "iXRrvBqotuBK",
        "outputId": "963ef25e-3311-4d3c-b387-9f6e2cd134fa"
      },
      "execution_count": null,
      "outputs": [
        {
          "output_type": "stream",
          "name": "stdout",
          "text": [
            "A simple example class\n",
            "12345\n",
            "<function MyClass.f at 0x7fba880e8820>\n"
          ]
        }
      ]
    },
    {
      "cell_type": "markdown",
      "source": [
        "## Encapsulation"
      ],
      "metadata": {
        "id": "Ack3-Vwft-eE"
      }
    },
    {
      "cell_type": "markdown",
      "source": [
        "### Non-private data is accessible outside the obkect methods."
      ],
      "metadata": {
        "id": "XzmphKEpuKAf"
      }
    },
    {
      "cell_type": "code",
      "source": [
        "# base class\n",
        "class Animal:\n",
        "    \n",
        "    def eat(self):\n",
        "        print( \"I can eat!\")\n",
        "    \n",
        "    def sleep(self):\n",
        "        print(\"I can sleep!\")\n",
        "\n",
        "# derived class\n",
        "class Dog(Animal):\n",
        "    \n",
        "    def bark(self):\n",
        "        print(\"I can bark! Woof woof!!\")\n",
        "\n",
        "# Create object of the Dog class\n",
        "dog1 = Dog()\n",
        "\n",
        "# Calling members of the base class\n",
        "dog1.eat()\n",
        "dog1.sleep()\n",
        "\n",
        "# Calling member of the derived class\n",
        "dog1.bark();"
      ],
      "metadata": {
        "colab": {
          "base_uri": "https://localhost:8080/"
        },
        "id": "BvlI2LLDtuDz",
        "outputId": "247b4ddb-40f3-43b6-e3d9-03f6220a5686"
      },
      "execution_count": null,
      "outputs": [
        {
          "output_type": "stream",
          "name": "stdout",
          "text": [
            "I can eat!\n",
            "I can sleep!\n",
            "I can bark! Woof woof!!\n"
          ]
        }
      ]
    },
    {
      "cell_type": "code",
      "source": [
        "class Computer:\n",
        "\n",
        "    def __init__(self):\n",
        "        self.__maxprice = 900\n",
        "\n",
        "    def sell(self):\n",
        "        print(\"Selling Price: {}\".format(self.__maxprice))\n",
        "\n",
        "    def setMaxPrice(self, price):\n",
        "        self.__maxprice = price\n",
        "\n",
        "c = Computer()\n",
        "c.sell()\n",
        "\n",
        "# change the price\n",
        "c.__maxprice = 1000\n",
        "c.sell()\n",
        "\n",
        "# using setter function\n",
        "c.setMaxPrice(1000)\n",
        "c.sell()"
      ],
      "metadata": {
        "colab": {
          "base_uri": "https://localhost:8080/"
        },
        "id": "mwfCXPbJtuI4",
        "outputId": "55c9ebc2-58e2-4475-e9a6-3756a915aee4"
      },
      "execution_count": null,
      "outputs": [
        {
          "output_type": "stream",
          "name": "stdout",
          "text": [
            "Selling Price: 900\n",
            "Selling Price: 900\n",
            "Selling Price: 1000\n"
          ]
        }
      ]
    },
    {
      "cell_type": "markdown",
      "source": [
        "## Inheritance"
      ],
      "metadata": {
        "id": "fGJoEQortn3q"
      }
    },
    {
      "cell_type": "code",
      "source": [
        "class Person:\n",
        "  def __init__(self, fname, lname):\n",
        "    self.firstname = fname\n",
        "    self.lastname = lname\n",
        "    print(self.firstname, self.lastname)\n",
        "  \n",
        "\n",
        "class Researcher(Person):\n",
        "  def __init__(self, fname, lname):\n",
        "    print('This is a message from the init method of the child class.')\n",
        "\n",
        "Researcher(\"Alan\", \"Turing\")\n"
      ],
      "metadata": {
        "colab": {
          "base_uri": "https://localhost:8080/"
        },
        "id": "fT0YKQ67pcuu",
        "outputId": "2841f65d-3abd-42a4-b67d-33ec6317fcad"
      },
      "execution_count": null,
      "outputs": [
        {
          "output_type": "stream",
          "name": "stdout",
          "text": [
            "This is a message from the init method of the child class.\n"
          ]
        },
        {
          "output_type": "execute_result",
          "data": {
            "text/plain": [
              "<__main__.Researcher at 0x7f6c843035e0>"
            ]
          },
          "metadata": {},
          "execution_count": 2
        }
      ]
    },
    {
      "cell_type": "markdown",
      "source": [
        "## super() Method"
      ],
      "metadata": {
        "id": "FaE2rQhTtk9O"
      }
    },
    {
      "cell_type": "code",
      "execution_count": null,
      "metadata": {
        "colab": {
          "base_uri": "https://localhost:8080/"
        },
        "id": "iYEFpxjUpSbs",
        "outputId": "978eea0d-de1f-4090-9aac-1964bc1ca184"
      },
      "outputs": [
        {
          "output_type": "stream",
          "name": "stdout",
          "text": [
            "Alan Turing\n",
            "This is a message from the init method of the child class.\n"
          ]
        },
        {
          "output_type": "execute_result",
          "data": {
            "text/plain": [
              "<__main__.Researcher at 0x7f6c84316a30>"
            ]
          },
          "metadata": {},
          "execution_count": 1
        }
      ],
      "source": [
        "class Person:\n",
        "  def __init__(self, fname, lname):\n",
        "    self.firstname = fname\n",
        "    self.lastname = lname\n",
        "    print(self.firstname, self.lastname)\n",
        "\n",
        "   \n",
        "class Researcher(Person):\n",
        "  def __init__(self, fname, lname):\n",
        "    super().__init__(fname, lname)\n",
        "    print('This is a message from the init method of the child class.')\n",
        "\n",
        "Researcher(\"Alan\", \"Turing\")\n"
      ]
    },
    {
      "cell_type": "markdown",
      "source": [
        "## Extend the functionality of an existing Class"
      ],
      "metadata": {
        "id": "7O9N8KZAtclV"
      }
    },
    {
      "cell_type": "code",
      "source": [
        "class Person:\n",
        "  def __init__(self, fname, lname):\n",
        "    self.firstname = fname\n",
        "    self.lastname = lname\n",
        "\n",
        "  def printname(self):\n",
        "    print(self.firstname, self.lastname)\n",
        "\n",
        "class Researcher(Person):\n",
        "  def __init__(self, fname, lname, exp):\n",
        "    super().__init__(fname, lname)\n",
        "    self.area_of_expertise = exp\n",
        "  \n",
        "  def print_area_of_expertise(self):\n",
        "    self.printname() # calling a member method\n",
        "    print(\"Area of expertise is : \", self.area_of_expertise)\n",
        "  \n",
        "\n",
        "obj = Researcher(\"Alan\", \"Turing\", \"AI\")\n",
        "obj.print_area_of_expertise() \n",
        "\n"
      ],
      "metadata": {
        "colab": {
          "base_uri": "https://localhost:8080/"
        },
        "id": "B_PeQJEetaQ5",
        "outputId": "cca27668-30b7-4c91-c1c6-581a30767260"
      },
      "execution_count": null,
      "outputs": [
        {
          "output_type": "stream",
          "name": "stdout",
          "text": [
            "Alan Turing\n",
            "Area of expertise is :  AI\n"
          ]
        }
      ]
    },
    {
      "cell_type": "markdown",
      "source": [
        "## Multiple Inheritance"
      ],
      "metadata": {
        "id": "PeUdi10tucjJ"
      }
    },
    {
      "cell_type": "code",
      "source": [
        "class Mammal:\n",
        "    def mammal_info(self):\n",
        "        print(\"Mammals can give direct birth.\")\n",
        "\n",
        "class WingedAnimal:\n",
        "    def winged_animal_info(self):\n",
        "        print(\"Winged animals can flap.\")\n",
        "\n",
        "class Bat(Mammal, WingedAnimal):\n",
        "    pass\n",
        "\n",
        "# create an object of Bat class\n",
        "b1 = Bat()\n",
        "\n",
        "b1.mammal_info()\n",
        "b1.winged_animal_info()"
      ],
      "metadata": {
        "colab": {
          "base_uri": "https://localhost:8080/"
        },
        "id": "4iTmKHfBufof",
        "outputId": "efcd77d3-d751-4d02-fc0f-2af002cac7df"
      },
      "execution_count": null,
      "outputs": [
        {
          "output_type": "stream",
          "name": "stdout",
          "text": [
            "Mammals can give direct birth.\n",
            "Winged animals can flap.\n"
          ]
        }
      ]
    },
    {
      "cell_type": "markdown",
      "source": [
        "## Multilevel Inheritance"
      ],
      "metadata": {
        "id": "Li9O7Uact1kv"
      }
    },
    {
      "cell_type": "code",
      "source": [
        "class SuperClass:\n",
        "\n",
        "    def super_method(self):\n",
        "        print(\"Super Class method called\")\n",
        "\n",
        "# define class that derive from SuperClass\n",
        "class DerivedClass1(SuperClass):\n",
        "    def derived1_method(self):\n",
        "        print(\"Derived class 1 method called\")\n",
        "\n",
        "# define class that derive from DerivedClass1\n",
        "class DerivedClass2(DerivedClass1):\n",
        "\n",
        "    def derived2_method(self):\n",
        "        print(\"Derived class 2 method called\")\n",
        "\n",
        "# create an object of DerivedClass2\n",
        "d2 = DerivedClass2()\n",
        "\n",
        "d2.super_method()  # Output: \"Super Class method called\"\n",
        "\n",
        "d2.derived1_method()  # Output: \"Derived class 1 method called\"\n",
        "\n",
        "d2.derived2_method()  # Output: \"Derived class 2 method called\"\n"
      ],
      "metadata": {
        "colab": {
          "base_uri": "https://localhost:8080/"
        },
        "id": "XM9zedUht4ID",
        "outputId": "6dc1aa65-05f5-455b-f8f2-f75248f47437"
      },
      "execution_count": null,
      "outputs": [
        {
          "output_type": "stream",
          "name": "stdout",
          "text": [
            "Super Class method called\n",
            "Derived class 1 method called\n",
            "Derived class 2 method called\n"
          ]
        }
      ]
    },
    {
      "cell_type": "markdown",
      "source": [
        "## Polymorphism"
      ],
      "metadata": {
        "id": "yUVxBTxft25N"
      }
    },
    {
      "cell_type": "code",
      "source": [
        "class Polygon:\n",
        "    # method to render a shape\n",
        "    def render(self):\n",
        "        print(\"Rendering Polygon...\")\n",
        "\n",
        "class Square(Polygon):\n",
        "    # renders Square\n",
        "    def render(self):\n",
        "        print(\"Rendering Square...\")\n",
        "\n",
        "class Circle(Polygon):\n",
        "    # renders circle\n",
        "    def render(self):\n",
        "        print(\"Rendering Circle...\")\n",
        "    \n",
        "# create an object of Square\n",
        "s1 = Square()\n",
        "s1.render()\n",
        "\n",
        "# create an object of Circle\n",
        "c1 = Circle()\n",
        "c1.render()"
      ],
      "metadata": {
        "colab": {
          "base_uri": "https://localhost:8080/"
        },
        "id": "JMAZ0g-TtuMJ",
        "outputId": "d77fe66e-2647-4963-e9db-48927e4ecc7a"
      },
      "execution_count": null,
      "outputs": [
        {
          "output_type": "stream",
          "name": "stdout",
          "text": [
            "Rendering Square...\n",
            "Rendering Circle...\n"
          ]
        }
      ]
    },
    {
      "cell_type": "markdown",
      "source": [
        "# **List Comprehension**"
      ],
      "metadata": {
        "id": "GrLNgt16Y6D2"
      }
    },
    {
      "cell_type": "code",
      "source": [
        "numbers = [2, 5, 7, 6, 10, 55, 100]\n",
        "\n",
        "even = [x for x in numbers if x%2==0]\n",
        "print(even)\n",
        "\n",
        "\n",
        "names = [\"ram\", \"anita\", \"ravana\", \"peter\", \"bob\", \"alice\"]\n",
        "astartnames = [name for name in names if name.startswith('a')]\n",
        "print(astartnames)\n",
        "\n",
        "anames = [name for name in names if \"a\" in name]\n",
        "print(anames)"
      ],
      "metadata": {
        "id": "LExEJ6b4tt8W"
      },
      "execution_count": null,
      "outputs": []
    },
    {
      "cell_type": "markdown",
      "source": [
        "# **Lambda Function**\n",
        "\n",
        "### A function without a name is known as an anonymous function in Python.\n",
        "### It is created with the help of the keyword lambda.\n"
      ],
      "metadata": {
        "id": "Zuhi31njae6i"
      }
    },
    {
      "cell_type": "code",
      "source": [
        "# Example 1\n",
        "# An example of an anonymous function with one arguments:\n",
        "add = lambda x: x + 1\n",
        "print(add(5))"
      ],
      "metadata": {
        "colab": {
          "base_uri": "https://localhost:8080/"
        },
        "id": "T2vhG7uZayWC",
        "outputId": "75e41c67-7d35-4329-9a8f-2fa912ebbf9d"
      },
      "execution_count": 7,
      "outputs": [
        {
          "output_type": "stream",
          "name": "stdout",
          "text": [
            "6\n"
          ]
        }
      ]
    },
    {
      "cell_type": "markdown",
      "source": [
        "## Python code to illustrate cube of a number  \n",
        "\n",
        "A lambda function with one argument."
      ],
      "metadata": {
        "id": "E7rtVBrKfeiE"
      }
    },
    {
      "cell_type": "code",
      "source": [
        "\n",
        "# Python code to illustrate cube of a number  \n",
        "\n",
        "# showing difference between def() and lambda(). \n",
        "def cube(y): \n",
        "    return y*y*y; \n",
        "print(cube)  \n",
        "print(cube(5)) \n",
        "\n",
        "\n",
        "g = lambda x: x*x*x \n",
        "print(g)\n",
        "print(g(5)) \n"
      ],
      "metadata": {
        "colab": {
          "base_uri": "https://localhost:8080/"
        },
        "id": "wgH9DzB7cWBb",
        "outputId": "1485e4e4-6c64-40b5-f5cd-b6473183327f"
      },
      "execution_count": 36,
      "outputs": [
        {
          "output_type": "stream",
          "name": "stdout",
          "text": [
            "<function cube at 0x7fcfd34af310>\n",
            "125\n",
            "<function <lambda> at 0x7fcfd34af700>\n",
            "125\n"
          ]
        }
      ]
    },
    {
      "cell_type": "markdown",
      "source": [
        "## Another example to Print something"
      ],
      "metadata": {
        "id": "PNpQLFBeiZK8"
      }
    },
    {
      "cell_type": "code",
      "source": [
        "# An example of an anonymous function with two arguments:\n",
        "\n",
        "name1 = lambda first_name, last_name: f'The full name is {first_name.title()} {last_name.title()}'\n",
        "print(name1('Alan', 'Turing'))\n",
        "\n",
        "name2 = lambda first_name, last_name: print(f'The full name is {first_name.title()} {last_name.title()}')\n",
        "name2('Alan', 'Turing')\n"
      ],
      "metadata": {
        "colab": {
          "base_uri": "https://localhost:8080/"
        },
        "id": "qOGjgGunca6_",
        "outputId": "5acb2a47-2ec8-4692-a2d4-98af445e6c3e"
      },
      "execution_count": 35,
      "outputs": [
        {
          "output_type": "stream",
          "name": "stdout",
          "text": [
            "The full name is Alan Turing\n",
            "The full name is Alan Turing\n"
          ]
        }
      ]
    },
    {
      "cell_type": "markdown",
      "source": [
        " An example of an anonymous function with two arguments:"
      ],
      "metadata": {
        "id": "EHXbIzUui65X"
      }
    },
    {
      "cell_type": "code",
      "source": [
        "# Example 4\n",
        "# An example of an anonymous function with two arguments:\n",
        "f = lambda a, b: a + b\n",
        "print(f(2,3))"
      ],
      "metadata": {
        "colab": {
          "base_uri": "https://localhost:8080/"
        },
        "id": "wHFQjpmxePEl",
        "outputId": "449c0e43-043c-4ef6-b157-e228f02c9639"
      },
      "execution_count": 37,
      "outputs": [
        {
          "output_type": "stream",
          "name": "stdout",
          "text": [
            "5\n"
          ]
        }
      ]
    },
    {
      "cell_type": "markdown",
      "source": [
        "## Higher Order Function\n",
        "\n",
        "### The functions which take one or more functions as arguments and returns the result are known as higher-order functions.\n"
      ],
      "metadata": {
        "id": "7JpRHMGieVQi"
      }
    },
    {
      "cell_type": "code",
      "source": [
        "# A lambda function can be a higher-order function:\n",
        "\n",
        "higher_order_function = lambda x, f1: x + f1(x)\n",
        "\n",
        "res = higher_order_function(3, lambda x: x * x)\n",
        "print(res)\n",
        "\n",
        "res = higher_order_function(5, lambda x: x + 3)\n",
        "print(res)\n"
      ],
      "metadata": {
        "colab": {
          "base_uri": "https://localhost:8080/"
        },
        "id": "uOVObbFOeX4v",
        "outputId": "b694cda4-96ec-47be-e1dd-eae1ba60e50c"
      },
      "execution_count": 16,
      "outputs": [
        {
          "output_type": "stream",
          "name": "stdout",
          "text": [
            "12\n",
            "13\n"
          ]
        }
      ]
    },
    {
      "cell_type": "markdown",
      "source": [
        "## **Lambda IIFE (stands for immediately invoked function execution)**\n",
        "\n",
        "### IIFE in Python Lambda - IIFE stands for immediately invoked function execution. It means that a lambda function is callable as soon as it is defined. Let's understand this with an example; fire up your IDLE and type in the following: \n"
      ],
      "metadata": {
        "id": "rVluuGBse2jV"
      }
    },
    {
      "cell_type": "code",
      "source": [
        "res = (lambda x: x + x)(2)\n",
        "print(res)"
      ],
      "metadata": {
        "colab": {
          "base_uri": "https://localhost:8080/"
        },
        "id": "0e1YcI7seF_I",
        "outputId": "2ba9f7eb-60fb-4675-83ff-3091cd9ed484"
      },
      "execution_count": 30,
      "outputs": [
        {
          "output_type": "stream",
          "name": "stdout",
          "text": [
            "4\n"
          ]
        }
      ]
    },
    {
      "cell_type": "markdown",
      "source": [
        "## Byte Code for Lambda vs. any other function in Python"
      ],
      "metadata": {
        "id": "8UxbXg1yfMD7"
      }
    },
    {
      "cell_type": "code",
      "source": [
        "\n",
        "# The dis module subjects a readable version of the Python bytecode generated by the compiler,\n",
        "# which in turn displays the low-level instructions used by the Python interpreter.\n",
        "\n",
        "# You can see the Python bytecode is similar in both cases.\n",
        "# However, what differs is the style of naming.\n",
        "# With def, the function is named as sub whereas lambda is used in case of Python built-in function.\n",
        "\n",
        "import dis\n",
        "sub_lam = lambda a, b: a + b\n",
        "print(type(sub_lam))\n",
        "print(sub_lam)\n",
        "print(dis.dis(sub_lam))\n",
        "\n",
        "print(\"\\n\\n\")\n",
        "\n",
        "def sub(a,b):\n",
        "    c = a + b\n",
        "    return c\n",
        "\n",
        "print(type(sub))\n",
        "print(sub)\n",
        "print(dis.dis(sub))\n"
      ],
      "metadata": {
        "colab": {
          "base_uri": "https://localhost:8080/"
        },
        "id": "oey_hq-dcdjH",
        "outputId": "4fe0f5c6-3aa4-4353-90a4-beb1a7f07392"
      },
      "execution_count": 12,
      "outputs": [
        {
          "output_type": "stream",
          "name": "stdout",
          "text": [
            "<class 'function'>\n",
            "<function <lambda> at 0x7fcfd35b0820>\n",
            "  9           0 LOAD_FAST                0 (a)\n",
            "              2 LOAD_FAST                1 (b)\n",
            "              4 BINARY_ADD\n",
            "              6 RETURN_VALUE\n",
            "None\n",
            "\n",
            "\n",
            "\n",
            "<class 'function'>\n",
            "<function sub at 0x7fcfd35b0700>\n",
            " 17           0 LOAD_FAST                0 (a)\n",
            "              2 LOAD_FAST                1 (b)\n",
            "              4 BINARY_ADD\n",
            "              6 STORE_FAST               2 (c)\n",
            "\n",
            " 18           8 LOAD_FAST                2 (c)\n",
            "             10 RETURN_VALUE\n",
            "None\n"
          ]
        }
      ]
    },
    {
      "cell_type": "markdown",
      "source": [
        "\n",
        "## Map with Lambda) "
      ],
      "metadata": {
        "id": "_jYqvnDYbumv"
      }
    },
    {
      "cell_type": "code",
      "source": [
        "\n",
        "# Lambda with Map - Python code to illustrate map() with lambda()  \n",
        "# to get double of a list. \n",
        "\n",
        "li = [5, 7, 22, 97, 54, 62, 77, 23, 73, 61] \n",
        "\n",
        "final_list = list(map(lambda x: 2*x , li)) \n",
        "\n",
        "print(final_list) \n"
      ],
      "metadata": {
        "colab": {
          "base_uri": "https://localhost:8080/"
        },
        "id": "9A4N8IQqbtNc",
        "outputId": "4cae728a-3bbe-40e2-9e76-166eefe4c74b"
      },
      "execution_count": 4,
      "outputs": [
        {
          "output_type": "stream",
          "name": "stdout",
          "text": [
            "[10, 14, 44, 194, 108, 124, 154, 46, 146, 122]\n"
          ]
        }
      ]
    },
    {
      "cell_type": "markdown",
      "source": [
        "\n",
        "## Filter with Lambda"
      ],
      "metadata": {
        "id": "VuJw5gqMbeUI"
      }
    },
    {
      "cell_type": "code",
      "source": [
        "# Lambda with Filter - Python code to illustrate \n",
        "# filter() with lambda() \n",
        "\n",
        "li = [5, 7, 22, 97, 54, 62, 77, 23, 73, 61] \n",
        "\n",
        "final_list = list(filter(lambda x: (x%2 != 0) , li)) \n",
        "\n",
        "print(final_list) "
      ],
      "metadata": {
        "colab": {
          "base_uri": "https://localhost:8080/"
        },
        "id": "3TYytJNfbbdU",
        "outputId": "e65caa87-8962-4173-9db5-6fbedab16ec4"
      },
      "execution_count": 5,
      "outputs": [
        {
          "output_type": "stream",
          "name": "stdout",
          "text": [
            "[5, 7, 97, 77, 23, 73, 61]\n"
          ]
        }
      ]
    },
    {
      "cell_type": "markdown",
      "source": [
        "## Reduce with Lambda "
      ],
      "metadata": {
        "id": "cBysIT7FbQW9"
      }
    },
    {
      "cell_type": "code",
      "source": [
        "# Lambda with Reduce - Python code to illustrate - reduce() with lambda() \n",
        "# to get sum of a list \n",
        "\n",
        "from functools import reduce\n",
        "\n",
        "li = [5, 8, 10, 20, 50, 100] \n",
        "\n",
        "sum = reduce((lambda x, y: x + y), li) \n",
        "\n",
        "print (sum) "
      ],
      "metadata": {
        "colab": {
          "base_uri": "https://localhost:8080/"
        },
        "id": "J2yJ_XgobOh1",
        "outputId": "7b58f6e6-8378-42e2-8067-b9b7f23b8468"
      },
      "execution_count": 6,
      "outputs": [
        {
          "output_type": "stream",
          "name": "stdout",
          "text": [
            "193\n"
          ]
        }
      ]
    },
    {
      "cell_type": "code",
      "source": [
        "# using reduce to compute maximum element from list\n",
        "print(\"The maximum element of the list is : \")\n",
        "print(reduce(lambda a, b: a if a > b else b, li))"
      ],
      "metadata": {
        "colab": {
          "base_uri": "https://localhost:8080/"
        },
        "id": "aOrkeD3BkTkg",
        "outputId": "be1d1b91-53e2-41ee-9b30-95fce12b0ed3"
      },
      "execution_count": 38,
      "outputs": [
        {
          "output_type": "stream",
          "name": "stdout",
          "text": [
            "The maximum element of the list is : \n",
            "100\n"
          ]
        }
      ]
    },
    {
      "cell_type": "code",
      "source": [],
      "metadata": {
        "id": "X8tPlO__g3B2"
      },
      "execution_count": null,
      "outputs": []
    },
    {
      "cell_type": "markdown",
      "source": [
        "# **Object Serialization**"
      ],
      "metadata": {
        "id": "pzDZ5dNFg0M3"
      }
    },
    {
      "cell_type": "code",
      "source": [
        "import pickle as pk"
      ],
      "metadata": {
        "id": "iOg9vhtBg3hB"
      },
      "execution_count": 25,
      "outputs": []
    },
    {
      "cell_type": "markdown",
      "source": [
        "## Serialize/De-serialize data in a Dictionary"
      ],
      "metadata": {
        "id": "ROZs7btIhjUa"
      }
    },
    {
      "cell_type": "code",
      "source": [
        "# Serialize\n",
        "f = open(\"pic.pk\",\"wb\")\n",
        "dct = {\"name\":\"Raj\", \"age\":23, \"Gender\":\"Male\",\"marks\":75}\n",
        "pk.dump(dct, f)\n",
        "f.close()\n",
        "\n",
        "\n",
        "# De-Serialize\n",
        "f = open(\"pic.pk\",\"rb\")\n",
        "d = pk.load(f)\n",
        "print(d)\n",
        "f.close()"
      ],
      "metadata": {
        "colab": {
          "base_uri": "https://localhost:8080/"
        },
        "id": "vrG2YAr3g3kS",
        "outputId": "3cdc66d6-1716-4db4-ba77-45d23eb84c25"
      },
      "execution_count": 26,
      "outputs": [
        {
          "output_type": "stream",
          "name": "stdout",
          "text": [
            "{'name': 'Raj', 'age': 23, 'Gender': 'Male', 'marks': 75}\n"
          ]
        }
      ]
    },
    {
      "cell_type": "markdown",
      "source": [
        "## Serialize/De-serialize a Class Object"
      ],
      "metadata": {
        "id": "iEcf9BrKhpUg"
      }
    },
    {
      "cell_type": "code",
      "source": [
        "class Person:\n",
        "  def __init__(self, name, age):\n",
        "     self.name=name\n",
        "     self.age=age\n",
        "  def show(self):\n",
        "     print (\"name:\", self.name, \"age:\", self.age)"
      ],
      "metadata": {
        "id": "zoFSrMNPhKSS"
      },
      "execution_count": 27,
      "outputs": []
    },
    {
      "cell_type": "code",
      "source": [
        "p1 = Person('Raj', 35)\n",
        "\n",
        "print (\"\\n Pickling data....\")\n",
        "f = open(\"pickled.pk\",\"wb\")\n",
        "pk.dump(p1,f)\n",
        "f.close()\n",
        "print (\"\\n Pickling completed....\")"
      ],
      "metadata": {
        "colab": {
          "base_uri": "https://localhost:8080/"
        },
        "id": "JJduv264hQOw",
        "outputId": "6e32ac70-aceb-4680-8c2b-6bda09e44441"
      },
      "execution_count": 28,
      "outputs": [
        {
          "output_type": "stream",
          "name": "stdout",
          "text": [
            "\n",
            " Pickling data....\n",
            "\n",
            " Pickling completed....\n"
          ]
        }
      ]
    },
    {
      "cell_type": "code",
      "source": [
        "print (\"\\n Now Unpickling data....\")\n",
        "f = open(\"pickled.pk\",\"rb\")\n",
        "p1 = pk.load(f)\n",
        "p1.show()\n"
      ],
      "metadata": {
        "colab": {
          "base_uri": "https://localhost:8080/"
        },
        "id": "N9Whku4-hN73",
        "outputId": "51f4a75d-614f-4ac3-fee0-e4f756391175"
      },
      "execution_count": 29,
      "outputs": [
        {
          "output_type": "stream",
          "name": "stdout",
          "text": [
            "\n",
            " Now Unpickling data....\n",
            "name: Raj age: 35\n"
          ]
        }
      ]
    },
    {
      "cell_type": "code",
      "source": [],
      "metadata": {
        "id": "rYiXNDTtg3m7"
      },
      "execution_count": null,
      "outputs": []
    }
  ]
}