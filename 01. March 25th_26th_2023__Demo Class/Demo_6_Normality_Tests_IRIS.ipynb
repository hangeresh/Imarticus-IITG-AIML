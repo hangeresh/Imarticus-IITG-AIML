{
  "nbformat": 4,
  "nbformat_minor": 0,
  "metadata": {
    "colab": {
      "provenance": []
    },
    "kernelspec": {
      "name": "python3",
      "display_name": "Python 3"
    },
    "language_info": {
      "name": "python"
    }
  },
  "cells": [
    {
      "cell_type": "markdown",
      "source": [
        "# **Normality Checking and Feature Normalization on IRIS Dataset**"
      ],
      "metadata": {
        "id": "DjviqnXAiKYu"
      }
    },
    {
      "cell_type": "markdown",
      "source": [
        "# Q-Q Plot - Comparing Theoretically Distributed Samples for Nomality\n",
        "\n",
        "In statistics, a **Q–Q plot (quantile-quantile plot)** is a probability plot, a graphical method for comparing two probability distributions by plotting their quantiles against each other.\n",
        "\n",
        "A point (x, y) on the plot corresponds to one of the quantiles of the second distribution (y-coordinate, e.g sample data) plotted against the same quantile of the first distribution (x-coordinate, theoretical distribution). \n",
        "This defines a parametric curve where the parameter is the index of the quantile interval.\n",
        "\n",
        "**If the two distributions being compared are similar, the points in the Q–Q plot will approximately lie on the identity line y = x.** \n",
        "\n",
        "**If the distributions are linearly related, the points in the Q–Q plot will approximately lie on a line, but not necessarily on the line y = x.**"
      ],
      "metadata": {
        "id": "IatVddg58c84"
      }
    },
    {
      "cell_type": "code",
      "source": [
        "import numpy as np\n",
        "\n",
        "#create dataset with 100 values that follow a normal distribution\n",
        "np.random.seed(0)\n",
        "data = np.random.normal(0,1, 1000)"
      ],
      "metadata": {
        "id": "8k0LjyrA1F9P"
      },
      "execution_count": null,
      "outputs": []
    },
    {
      "cell_type": "code",
      "source": [
        "import statsmodels.api as sm\n",
        "import matplotlib.pyplot as plt\n",
        "\n",
        "#create Q-Q plot with 45-degree line added to plot\n",
        "fig = sm.qqplot(data, line='45')\n",
        "plt.show()"
      ],
      "metadata": {
        "colab": {
          "base_uri": "https://localhost:8080/",
          "height": 279
        },
        "id": "hU48Thm71S7R",
        "outputId": "3898ef9f-85de-46cd-913f-e52ab6046401"
      },
      "execution_count": null,
      "outputs": [
        {
          "output_type": "display_data",
          "data": {
            "text/plain": [
              "<Figure size 432x288 with 1 Axes>"
            ],
            "image/png": "[encoded data removed]"
          },
          "metadata": {
            "needs_background": "light"
          }
        }
      ]
    },
    {
      "cell_type": "markdown",
      "source": [
        "# Shapiro Wilk Test\n",
        "\n",
        "### If the P-Value of the Shapiro Wilk Test is larger than 0.05, we assume a normal distribution\n",
        "### If the P-Value of the Shapiro Wilk Test is smaller than 0.05, we do not assume a normal distribution"
      ],
      "metadata": {
        "id": "sJ_z8NUR0T4M"
      }
    },
    {
      "cell_type": "code",
      "source": [
        "from scipy.stats import norm, shapiro\n",
        "my_data = norm.rvs(size=500)\n",
        "\n",
        "# If the P-Value of the Shapiro Wilk Test is larger than 0.05, we assume a normal distribution\n",
        "# It will return the test statistic called W and the P-Value.\n",
        "w_statistic, p_value = shapiro(my_data) \n",
        "print(w_statistic, p_value)\n",
        "\n",
        "if p_value > 0.05:\n",
        "  print('Data is assumed to be Normaly distributed')\n",
        "else:\n",
        "  print('Data is Not assumed to be Normaly distributed')\n"
      ],
      "metadata": {
        "colab": {
          "base_uri": "https://localhost:8080/"
        },
        "id": "JqfItQptzoXi",
        "outputId": "e3addc5b-fd91-4f7b-9565-d0bb698f114b"
      },
      "execution_count": 62,
      "outputs": [
        {
          "output_type": "stream",
          "name": "stdout",
          "text": [
            "0.9952835440635681 0.13359372317790985\n",
            "Data is assumed to be Normaly distributed\n"
          ]
        }
      ]
    },
    {
      "cell_type": "markdown",
      "source": [
        "# Kolmogorov Smirnov Test\n",
        "\n",
        "The Test Statistic of the KS Test is the Kolmogorov Smirnov Statistic, which follows a Kolmogorov distribution if the null hypothesis is true.\n",
        "\n",
        "If the observed data perfectly follow a normal distribution, the value of the KS statistic will be 0. \n",
        "The P-Value is used to decide whether the difference is large enough to reject the null hypothesis:\n",
        "\n",
        "**If the P-Value of the KS Test is larger than 0.05, we assume a normal distribution.**\n",
        "\n",
        "**If the P-Value of the KS Test is smaller than 0.05, we do not assume a normal distribution.**"
      ],
      "metadata": {
        "id": "YvXaxCh6-mFK"
      }
    },
    {
      "cell_type": "code",
      "source": [
        "from scipy.stats import kstest, norm\n",
        "import statsmodels.api as sm\n",
        "\n",
        "my_data = norm.rvs(size=1000)\n",
        "ks_statistic, p_value = kstest(my_data, 'norm')\n",
        "print(ks_statistic, p_value)\n",
        "\n",
        "if p_value > 0.05:\n",
        "  print('Data is assumed to be Normaly distributed')\n",
        "else:\n",
        "  print('Data is Not assumed to be Normaly distributed')\n"
      ],
      "metadata": {
        "colab": {
          "base_uri": "https://localhost:8080/"
        },
        "id": "08zaOnvHB4Gm",
        "outputId": "4d4d92fe-a3b4-4843-b910-53fcd26d0ec4"
      },
      "execution_count": 63,
      "outputs": [
        {
          "output_type": "stream",
          "name": "stdout",
          "text": [
            "0.02001951100222102 0.8099687092970156\n",
            "Data is assumed to be Normaly distributed\n"
          ]
        }
      ]
    },
    {
      "cell_type": "markdown",
      "source": [
        "# Work with the IRIS Features"
      ],
      "metadata": {
        "id": "vZckoGi9CGXM"
      }
    },
    {
      "cell_type": "code",
      "source": [
        "import seaborn as sns\n",
        "sns.set_style(\"darkgrid\")\n",
        "\n",
        "import warnings\n",
        "warnings.simplefilter(\"ignore\")"
      ],
      "metadata": {
        "id": "kgJXVi2yDv58"
      },
      "execution_count": 17,
      "outputs": []
    },
    {
      "cell_type": "code",
      "source": [
        "df_iris = pd.read_csv(\"IRIS.csv\")"
      ],
      "metadata": {
        "id": "s9KY3yxLCpcf"
      },
      "execution_count": 151,
      "outputs": []
    },
    {
      "cell_type": "code",
      "source": [
        "df_iris.head()"
      ],
      "metadata": {
        "colab": {
          "base_uri": "https://localhost:8080/",
          "height": 206
        },
        "id": "tUnt16lanJS0",
        "outputId": "092ab27c-d502-4a4c-f85a-5181da0b9245"
      },
      "execution_count": 152,
      "outputs": [
        {
          "output_type": "execute_result",
          "data": {
            "text/plain": [
              "   sepal_length  sepal_width  petal_length  petal_width species\n",
              "0           5.1          3.5           1.4          0.2  Setosa\n",
              "1           4.9          3.0           1.4          0.2  Setosa\n",
              "2           4.7          3.2           1.3          0.2  Setosa\n",
              "3           4.6          3.1           1.5          0.2  Setosa\n",
              "4           5.0          3.6           1.4          0.2  Setosa"
            ],
            "text/html": [
              "\n",
              "  <div id=\"df-b4f48acd-a74d-4496-be31-b6455464eb2a\">\n",
              "    <div class=\"colab-df-container\">\n",
              "      <div>\n",
              "<style scoped>\n",
              "    .dataframe tbody tr th:only-of-type {\n",
              "        vertical-align: middle;\n",
              "    }\n",
              "\n",
              "    .dataframe tbody tr th {\n",
              "        vertical-align: top;\n",
              "    }\n",
              "\n",
              "    .dataframe thead th {\n",
              "        text-align: right;\n",
              "    }\n",
              "</style>\n",
              "<table border=\"1\" class=\"dataframe\">\n",
              "  <thead>\n",
              "    <tr style=\"text-align: right;\">\n",
              "      <th></th>\n",
              "      <th>sepal_length</th>\n",
              "      <th>sepal_width</th>\n",
              "      <th>petal_length</th>\n",
              "      <th>petal_width</th>\n",
              "      <th>species</th>\n",
              "    </tr>\n",
              "  </thead>\n",
              "  <tbody>\n",
              "    <tr>\n",
              "      <th>0</th>\n",
              "      <td>5.1</td>\n",
              "      <td>3.5</td>\n",
              "      <td>1.4</td>\n",
              "      <td>0.2</td>\n",
              "      <td>Setosa</td>\n",
              "    </tr>\n",
              "    <tr>\n",
              "      <th>1</th>\n",
              "      <td>4.9</td>\n",
              "      <td>3.0</td>\n",
              "      <td>1.4</td>\n",
              "      <td>0.2</td>\n",
              "      <td>Setosa</td>\n",
              "    </tr>\n",
              "    <tr>\n",
              "      <th>2</th>\n",
              "      <td>4.7</td>\n",
              "      <td>3.2</td>\n",
              "      <td>1.3</td>\n",
              "      <td>0.2</td>\n",
              "      <td>Setosa</td>\n",
              "    </tr>\n",
              "    <tr>\n",
              "      <th>3</th>\n",
              "      <td>4.6</td>\n",
              "      <td>3.1</td>\n",
              "      <td>1.5</td>\n",
              "      <td>0.2</td>\n",
              "      <td>Setosa</td>\n",
              "    </tr>\n",
              "    <tr>\n",
              "      <th>4</th>\n",
              "      <td>5.0</td>\n",
              "      <td>3.6</td>\n",
              "      <td>1.4</td>\n",
              "      <td>0.2</td>\n",
              "      <td>Setosa</td>\n",
              "    </tr>\n",
              "  </tbody>\n",
              "</table>\n",
              "</div>\n",
              "      <button class=\"colab-df-convert\" onclick=\"convertToInteractive('df-b4f48acd-a74d-4496-be31-b6455464eb2a')\"\n",
              "              title=\"Convert this dataframe to an interactive table.\"\n",
              "              style=\"display:none;\">\n",
              "        \n",
              "  <svg xmlns=\"http://www.w3.org/2000/svg\" height=\"24px\"viewBox=\"0 0 24 24\"\n",
              "       width=\"24px\">\n",
              "    <path d=\"M0 0h24v24H0V0z\" fill=\"none\"/>\n",
              "    <path d=\"M18.56 5.44l.94 2.06.94-2.06 2.06-.94-2.06-.94-.94-2.06-.94 2.06-2.06.94zm-11 1L8.5 8.5l.94-2.06 2.06-.94-2.06-.94L8.5 2.5l-.94 2.06-2.06.94zm10 10l.94 2.06.94-2.06 2.06-.94-2.06-.94-.94-2.06-.94 2.06-2.06.94z\"/><path d=\"M17.41 7.96l-1.37-1.37c-.4-.4-.92-.59-1.43-.59-.52 0-1.04.2-1.43.59L10.3 9.45l-7.72 7.72c-.78.78-.78 2.05 0 2.83L4 21.41c.39.39.9.59 1.41.59.51 0 1.02-.2 1.41-.59l7.78-7.78 2.81-2.81c.8-.78.8-2.07 0-2.86zM5.41 20L4 18.59l7.72-7.72 1.47 1.35L5.41 20z\"/>\n",
              "  </svg>\n",
              "      </button>\n",
              "      \n",
              "  <style>\n",
              "    .colab-df-container {\n",
              "      display:flex;\n",
              "      flex-wrap:wrap;\n",
              "      gap: 12px;\n",
              "    }\n",
              "\n",
              "    .colab-df-convert {\n",
              "      background-color: #E8F0FE;\n",
              "      border: none;\n",
              "      border-radius: 50%;\n",
              "      cursor: pointer;\n",
              "      display: none;\n",
              "      fill: #1967D2;\n",
              "      height: 32px;\n",
              "      padding: 0 0 0 0;\n",
              "      width: 32px;\n",
              "    }\n",
              "\n",
              "    .colab-df-convert:hover {\n",
              "      background-color: #E2EBFA;\n",
              "      box-shadow: 0px 1px 2px rgba(60, 64, 67, 0.3), 0px 1px 3px 1px rgba(60, 64, 67, 0.15);\n",
              "      fill: #174EA6;\n",
              "    }\n",
              "\n",
              "    [theme=dark] .colab-df-convert {\n",
              "      background-color: #3B4455;\n",
              "      fill: #D2E3FC;\n",
              "    }\n",
              "\n",
              "    [theme=dark] .colab-df-convert:hover {\n",
              "      background-color: #434B5C;\n",
              "      box-shadow: 0px 1px 3px 1px rgba(0, 0, 0, 0.15);\n",
              "      filter: drop-shadow(0px 1px 2px rgba(0, 0, 0, 0.3));\n",
              "      fill: #FFFFFF;\n",
              "    }\n",
              "  </style>\n",
              "\n",
              "      <script>\n",
              "        const buttonEl =\n",
              "          document.querySelector('#df-b4f48acd-a74d-4496-be31-b6455464eb2a button.colab-df-convert');\n",
              "        buttonEl.style.display =\n",
              "          google.colab.kernel.accessAllowed ? 'block' : 'none';\n",
              "\n",
              "        async function convertToInteractive(key) {\n",
              "          const element = document.querySelector('#df-b4f48acd-a74d-4496-be31-b6455464eb2a');\n",
              "          const dataTable =\n",
              "            await google.colab.kernel.invokeFunction('convertToInteractive',\n",
              "                                                     [key], {});\n",
              "          if (!dataTable) return;\n",
              "\n",
              "          const docLinkHtml = 'Like what you see? Visit the ' +\n",
              "            '<a target=\"_blank\" href=https://colab.research.google.com/notebooks/data_table.ipynb>data table notebook</a>'\n",
              "            + ' to learn more about interactive tables.';\n",
              "          element.innerHTML = '';\n",
              "          dataTable['output_type'] = 'display_data';\n",
              "          await google.colab.output.renderOutput(dataTable, element);\n",
              "          const docLink = document.createElement('div');\n",
              "          docLink.innerHTML = docLinkHtml;\n",
              "          element.appendChild(docLink);\n",
              "        }\n",
              "      </script>\n",
              "    </div>\n",
              "  </div>\n",
              "  "
            ]
          },
          "metadata": {},
          "execution_count": 152
        }
      ]
    },
    {
      "cell_type": "code",
      "source": [
        "'''\n",
        "df = df_iris[df_iris['species']=='Setosa']\n",
        "df\n",
        "'''"
      ],
      "metadata": {
        "id": "aJMBWwHVnA2h"
      },
      "execution_count": null,
      "outputs": []
    },
    {
      "cell_type": "code",
      "source": [
        "feature_name = 'sepal_length'\n",
        "#feature_name = 'petal_width'\n",
        "#feature_name = 'petal_length'\n",
        "#feature_name = 'sepal_width'\n",
        "\n",
        "data = df_iris[feature_name]\n",
        "plt.hist(data, bins=30)\n",
        "plt.title(feature_name)\n",
        "plt.show()\n",
        "\n",
        "df_iris.plot(kind='density')"
      ],
      "metadata": {
        "colab": {
          "base_uri": "https://localhost:8080/",
          "height": 546
        },
        "id": "uXE7MsjKCmPF",
        "outputId": "4668fb2b-53b8-4f59-9da3-55b61ad2a6e2"
      },
      "execution_count": 18,
      "outputs": [
        {
          "output_type": "display_data",
          "data": {
            "text/plain": [
              "<Figure size 432x288 with 1 Axes>"
            ],
            "image/png": "[encoded data removed]"
          },
          "metadata": {}
        },
        {
          "output_type": "execute_result",
          "data": {
            "text/plain": [
              "<Axes: ylabel='Density'>"
            ]
          },
          "metadata": {},
          "execution_count": 18
        },
        {
          "output_type": "display_data",
          "data": {
            "text/plain": [
              "<Figure size 432x288 with 1 Axes>"
            ],
            "image/png": "[encoded data removed]"
          },
          "metadata": {}
        }
      ]
    },
    {
      "cell_type": "code",
      "source": [
        "# Importing library\n",
        "from scipy.stats import skew, kurtosis\n",
        "\n",
        "#feature_name = 'sepal_length'\n",
        "feature_name = 'sepal_width'\n",
        "\n",
        "#feature_name = 'petal_length'\n",
        "#feature_name = 'petal_width'\n",
        "\n",
        "data = df_iris[feature_name] \n",
        "\n",
        "# Calculate the skewness\n",
        "print(\"Skew : \", skew(data, axis=0, bias=True))\n",
        "\n",
        "# Calculate the kurtosis\n",
        "print(\"Kurtosis : \", kurtosis(data, axis=0, bias=True))\n"
      ],
      "metadata": {
        "colab": {
          "base_uri": "https://localhost:8080/"
        },
        "id": "-EQM6qg8XrSl",
        "outputId": "25c1703c-0a66-4b82-cad7-e87cd0efb04b"
      },
      "execution_count": 135,
      "outputs": [
        {
          "output_type": "stream",
          "name": "stdout",
          "text": [
            "Skew :  0.31576710633893473\n",
            "Kurtosis :  0.18097631752246768\n"
          ]
        }
      ]
    },
    {
      "cell_type": "code",
      "source": [
        "'''\n",
        "sns.kdeplot(data=df_iris, x=feature_name)  # same as >>  df_iris[feature_name].plot(kind='density')\n",
        "sns.rugplot(data=df_iris, x=feature_name)\n",
        "'''"
      ],
      "metadata": {
        "id": "fb4hB8uwJe2_"
      },
      "execution_count": null,
      "outputs": []
    },
    {
      "cell_type": "code",
      "source": [
        "#feature_name = 'sepal_length'\n",
        "feature_name = 'sepal_width'\n",
        "#feature_name = 'petal_width'\n",
        "#feature_name = 'petal_length'\n",
        "\n",
        "my_data = df_iris[feature_name]\n",
        "\n",
        "#----------------------------------------------\n",
        "# Distribution Plot with Seaborn\n",
        "\n",
        "# plot distplot\n",
        "fig, ax = plt.subplots()\n",
        "ax = sns.distplot(data)   # alternatively we may also write sns.distplot(data, ax = ax)\n",
        " \n",
        "# This will change the limits of the x-axis\n",
        "#ax.set_xlim(1, 10)\n",
        "#ax.set_ylim(0, 1)\n",
        " \n",
        "# This will add label to the X-axis\n",
        "#ax.set_xlabel( \"Feature Values\")\n",
        "ax.set_xlabel( feature_name)\n",
        " \n",
        "# This will add label to the Y-axis\n",
        "ax.set_ylabel( \"Density\")\n",
        " \n",
        "# This will add title to the plot\n",
        "ax.set_title( \"Feature Distribution\") \n",
        "plt.show()\n",
        "\n",
        "#----------------------------------------------\n",
        "\n",
        "\n",
        "# Create Q-Q plot with 45-degree line added to plot\n",
        "fig = sm.qqplot(my_data, line='45')\n",
        "\n",
        "plt.title('Q-Q Plot for ' + feature_name)\n",
        "plt.show()\n"
      ],
      "metadata": {
        "colab": {
          "base_uri": "https://localhost:8080/",
          "height": 585
        },
        "id": "kgbfOaW--Gln",
        "outputId": "88cabb56-99e3-4be7-e497-c2c0d5415d8f"
      },
      "execution_count": 91,
      "outputs": [
        {
          "output_type": "display_data",
          "data": {
            "text/plain": [
              "<Figure size 432x288 with 1 Axes>"
            ],
            "image/png": "[encoded data removed]"
          },
          "metadata": {}
        },
        {
          "output_type": "display_data",
          "data": {
            "text/plain": [
              "<Figure size 432x288 with 1 Axes>"
            ],
            "image/png": "[encoded data removed]"
          },
          "metadata": {}
        }
      ]
    },
    {
      "cell_type": "code",
      "source": [
        "from scipy.stats import kstest, shapiro, norm\n",
        "\n",
        "# Shapiro–Wilk Test\n",
        "w_statistic, p_value = shapiro(my_data) \n",
        "\n",
        "print('Shapiro–Wilk Test:')\n",
        "print(w_statistic, p_value)\n",
        "if p_value > 0.05:\n",
        "  print('Data is assumed to be Normaly distributed')\n",
        "else:\n",
        "  print('Data is Not assumed to be Normaly distributed')\n",
        "\n",
        "#-------------------------------------------------------------\n",
        "print(\"\\n\")\n",
        "\n",
        "# Kolmogorov–Smirnov Test\n",
        "ks_statistic, p_value = kstest(my_data, 'norm')\n",
        "\n",
        "print(\"Kolmogorov–Smirnov Test:\")\n",
        "print(ks_statistic, p_value)\n",
        "if p_value > 0.05:\n",
        "  print('Data is assumed to be Normaly distributed')\n",
        "else:\n",
        "  print('Data is Not assumed to be Normaly distributed')\n"
      ],
      "metadata": {
        "colab": {
          "base_uri": "https://localhost:8080/"
        },
        "id": "DXq_Q6rELZlb",
        "outputId": "9700a933-6404-4829-f363-b9f2967a6f16"
      },
      "execution_count": 94,
      "outputs": [
        {
          "output_type": "stream",
          "name": "stdout",
          "text": [
            "Shapiro–Wilk Test:\n",
            "0.9849168062210083 0.10112646222114563\n",
            "Data is assumed to be Normaly distributed\n",
            "\n",
            "\n",
            "Kolmogorov–Smirnov Test:\n",
            "0.9794298858198347 1.9343513094431768e-253\n",
            "Data is Not assumed to be Normaly distributed\n"
          ]
        }
      ]
    },
    {
      "cell_type": "markdown",
      "source": [
        "# Feature Scaling"
      ],
      "metadata": {
        "id": "DWSQlgJERvNh"
      }
    },
    {
      "cell_type": "code",
      "source": [
        "# Scaling the features in the range 0 to 1.\n",
        "\n",
        "X1 = df_iris['sepal_length']\n",
        "X1_min = np.min(X1)\n",
        "X1_max = np.max(X1)\n",
        "X1 = (X1-X1_min)/(X1_max - X1_min)\n",
        "\n",
        "X2 = df_iris['sepal_width']\n",
        "X2_min = np.min(X2)\n",
        "X2_max = np.max(X2)\n",
        "X2 = (X2-X2_min)/(X2_max - X2_min)\n",
        "\n",
        "X3 = df_iris['petal_length']\n",
        "X3_min = np.min(X3)\n",
        "X3_max = np.max(X3)\n",
        "X3 = (X3-X3_min)/(X3_max - X3_min)\n",
        "\n",
        "X4 = df_iris['petal_width']\n",
        "X4_min = np.min(X4)\n",
        "X4_max = np.max(X4)\n",
        "X4 = (X4-X4_min)/(X4_max - X4_min)"
      ],
      "metadata": {
        "id": "nxq0jlanSVym"
      },
      "execution_count": 119,
      "outputs": []
    },
    {
      "cell_type": "code",
      "source": [
        "X_scaled_df = pd.concat([X1, X2, X3, X4], axis=1)\n",
        "X_scaled_df.head()"
      ],
      "metadata": {
        "colab": {
          "base_uri": "https://localhost:8080/",
          "height": 206
        },
        "id": "v0MIe6oiV_C0",
        "outputId": "de7c2729-b6ce-4678-9df8-7977c0456d61"
      },
      "execution_count": 120,
      "outputs": [
        {
          "output_type": "execute_result",
          "data": {
            "text/plain": [
              "   sepal_length  sepal_width  petal_length  petal_width\n",
              "0      0.222222     0.625000      0.067797     0.041667\n",
              "1      0.166667     0.416667      0.067797     0.041667\n",
              "2      0.111111     0.500000      0.050847     0.041667\n",
              "3      0.083333     0.458333      0.084746     0.041667\n",
              "4      0.194444     0.666667      0.067797     0.041667"
            ],
            "text/html": [
              "\n",
              "  <div id=\"df-16f9c241-f5eb-4083-800d-2a2311b380c7\">\n",
              "    <div class=\"colab-df-container\">\n",
              "      <div>\n",
              "<style scoped>\n",
              "    .dataframe tbody tr th:only-of-type {\n",
              "        vertical-align: middle;\n",
              "    }\n",
              "\n",
              "    .dataframe tbody tr th {\n",
              "        vertical-align: top;\n",
              "    }\n",
              "\n",
              "    .dataframe thead th {\n",
              "        text-align: right;\n",
              "    }\n",
              "</style>\n",
              "<table border=\"1\" class=\"dataframe\">\n",
              "  <thead>\n",
              "    <tr style=\"text-align: right;\">\n",
              "      <th></th>\n",
              "      <th>sepal_length</th>\n",
              "      <th>sepal_width</th>\n",
              "      <th>petal_length</th>\n",
              "      <th>petal_width</th>\n",
              "    </tr>\n",
              "  </thead>\n",
              "  <tbody>\n",
              "    <tr>\n",
              "      <th>0</th>\n",
              "      <td>0.222222</td>\n",
              "      <td>0.625000</td>\n",
              "      <td>0.067797</td>\n",
              "      <td>0.041667</td>\n",
              "    </tr>\n",
              "    <tr>\n",
              "      <th>1</th>\n",
              "      <td>0.166667</td>\n",
              "      <td>0.416667</td>\n",
              "      <td>0.067797</td>\n",
              "      <td>0.041667</td>\n",
              "    </tr>\n",
              "    <tr>\n",
              "      <th>2</th>\n",
              "      <td>0.111111</td>\n",
              "      <td>0.500000</td>\n",
              "      <td>0.050847</td>\n",
              "      <td>0.041667</td>\n",
              "    </tr>\n",
              "    <tr>\n",
              "      <th>3</th>\n",
              "      <td>0.083333</td>\n",
              "      <td>0.458333</td>\n",
              "      <td>0.084746</td>\n",
              "      <td>0.041667</td>\n",
              "    </tr>\n",
              "    <tr>\n",
              "      <th>4</th>\n",
              "      <td>0.194444</td>\n",
              "      <td>0.666667</td>\n",
              "      <td>0.067797</td>\n",
              "      <td>0.041667</td>\n",
              "    </tr>\n",
              "  </tbody>\n",
              "</table>\n",
              "</div>\n",
              "      <button class=\"colab-df-convert\" onclick=\"convertToInteractive('df-16f9c241-f5eb-4083-800d-2a2311b380c7')\"\n",
              "              title=\"Convert this dataframe to an interactive table.\"\n",
              "              style=\"display:none;\">\n",
              "        \n",
              "  <svg xmlns=\"http://www.w3.org/2000/svg\" height=\"24px\"viewBox=\"0 0 24 24\"\n",
              "       width=\"24px\">\n",
              "    <path d=\"M0 0h24v24H0V0z\" fill=\"none\"/>\n",
              "    <path d=\"M18.56 5.44l.94 2.06.94-2.06 2.06-.94-2.06-.94-.94-2.06-.94 2.06-2.06.94zm-11 1L8.5 8.5l.94-2.06 2.06-.94-2.06-.94L8.5 2.5l-.94 2.06-2.06.94zm10 10l.94 2.06.94-2.06 2.06-.94-2.06-.94-.94-2.06-.94 2.06-2.06.94z\"/><path d=\"M17.41 7.96l-1.37-1.37c-.4-.4-.92-.59-1.43-.59-.52 0-1.04.2-1.43.59L10.3 9.45l-7.72 7.72c-.78.78-.78 2.05 0 2.83L4 21.41c.39.39.9.59 1.41.59.51 0 1.02-.2 1.41-.59l7.78-7.78 2.81-2.81c.8-.78.8-2.07 0-2.86zM5.41 20L4 18.59l7.72-7.72 1.47 1.35L5.41 20z\"/>\n",
              "  </svg>\n",
              "      </button>\n",
              "      \n",
              "  <style>\n",
              "    .colab-df-container {\n",
              "      display:flex;\n",
              "      flex-wrap:wrap;\n",
              "      gap: 12px;\n",
              "    }\n",
              "\n",
              "    .colab-df-convert {\n",
              "      background-color: #E8F0FE;\n",
              "      border: none;\n",
              "      border-radius: 50%;\n",
              "      cursor: pointer;\n",
              "      display: none;\n",
              "      fill: #1967D2;\n",
              "      height: 32px;\n",
              "      padding: 0 0 0 0;\n",
              "      width: 32px;\n",
              "    }\n",
              "\n",
              "    .colab-df-convert:hover {\n",
              "      background-color: #E2EBFA;\n",
              "      box-shadow: 0px 1px 2px rgba(60, 64, 67, 0.3), 0px 1px 3px 1px rgba(60, 64, 67, 0.15);\n",
              "      fill: #174EA6;\n",
              "    }\n",
              "\n",
              "    [theme=dark] .colab-df-convert {\n",
              "      background-color: #3B4455;\n",
              "      fill: #D2E3FC;\n",
              "    }\n",
              "\n",
              "    [theme=dark] .colab-df-convert:hover {\n",
              "      background-color: #434B5C;\n",
              "      box-shadow: 0px 1px 3px 1px rgba(0, 0, 0, 0.15);\n",
              "      filter: drop-shadow(0px 1px 2px rgba(0, 0, 0, 0.3));\n",
              "      fill: #FFFFFF;\n",
              "    }\n",
              "  </style>\n",
              "\n",
              "      <script>\n",
              "        const buttonEl =\n",
              "          document.querySelector('#df-16f9c241-f5eb-4083-800d-2a2311b380c7 button.colab-df-convert');\n",
              "        buttonEl.style.display =\n",
              "          google.colab.kernel.accessAllowed ? 'block' : 'none';\n",
              "\n",
              "        async function convertToInteractive(key) {\n",
              "          const element = document.querySelector('#df-16f9c241-f5eb-4083-800d-2a2311b380c7');\n",
              "          const dataTable =\n",
              "            await google.colab.kernel.invokeFunction('convertToInteractive',\n",
              "                                                     [key], {});\n",
              "          if (!dataTable) return;\n",
              "\n",
              "          const docLinkHtml = 'Like what you see? Visit the ' +\n",
              "            '<a target=\"_blank\" href=https://colab.research.google.com/notebooks/data_table.ipynb>data table notebook</a>'\n",
              "            + ' to learn more about interactive tables.';\n",
              "          element.innerHTML = '';\n",
              "          dataTable['output_type'] = 'display_data';\n",
              "          await google.colab.output.renderOutput(dataTable, element);\n",
              "          const docLink = document.createElement('div');\n",
              "          docLink.innerHTML = docLinkHtml;\n",
              "          element.appendChild(docLink);\n",
              "        }\n",
              "      </script>\n",
              "    </div>\n",
              "  </div>\n",
              "  "
            ]
          },
          "metadata": {},
          "execution_count": 120
        }
      ]
    },
    {
      "cell_type": "code",
      "source": [
        "y_species = df_iris['species']\n",
        "\n",
        "df = pd.concat([X_scaled_df, y_species], axis=1)\n",
        "df.head()"
      ],
      "metadata": {
        "colab": {
          "base_uri": "https://localhost:8080/",
          "height": 206
        },
        "id": "D1qEy-QgRws1",
        "outputId": "7d522df6-7c9f-4c17-a549-d12097c36023"
      },
      "execution_count": 117,
      "outputs": [
        {
          "output_type": "execute_result",
          "data": {
            "text/plain": [
              "   sepal_length  sepal_width  petal_length  petal_width species\n",
              "0      0.222222     0.625000      0.067797     0.041667  Setosa\n",
              "1      0.166667     0.416667      0.067797     0.041667  Setosa\n",
              "2      0.111111     0.500000      0.050847     0.041667  Setosa\n",
              "3      0.083333     0.458333      0.084746     0.041667  Setosa\n",
              "4      0.194444     0.666667      0.067797     0.041667  Setosa"
            ],
            "text/html": [
              "\n",
              "  <div id=\"df-1e3e3b14-b419-4fb6-afbd-d9d5d70cc165\">\n",
              "    <div class=\"colab-df-container\">\n",
              "      <div>\n",
              "<style scoped>\n",
              "    .dataframe tbody tr th:only-of-type {\n",
              "        vertical-align: middle;\n",
              "    }\n",
              "\n",
              "    .dataframe tbody tr th {\n",
              "        vertical-align: top;\n",
              "    }\n",
              "\n",
              "    .dataframe thead th {\n",
              "        text-align: right;\n",
              "    }\n",
              "</style>\n",
              "<table border=\"1\" class=\"dataframe\">\n",
              "  <thead>\n",
              "    <tr style=\"text-align: right;\">\n",
              "      <th></th>\n",
              "      <th>sepal_length</th>\n",
              "      <th>sepal_width</th>\n",
              "      <th>petal_length</th>\n",
              "      <th>petal_width</th>\n",
              "      <th>species</th>\n",
              "    </tr>\n",
              "  </thead>\n",
              "  <tbody>\n",
              "    <tr>\n",
              "      <th>0</th>\n",
              "      <td>0.222222</td>\n",
              "      <td>0.625000</td>\n",
              "      <td>0.067797</td>\n",
              "      <td>0.041667</td>\n",
              "      <td>Setosa</td>\n",
              "    </tr>\n",
              "    <tr>\n",
              "      <th>1</th>\n",
              "      <td>0.166667</td>\n",
              "      <td>0.416667</td>\n",
              "      <td>0.067797</td>\n",
              "      <td>0.041667</td>\n",
              "      <td>Setosa</td>\n",
              "    </tr>\n",
              "    <tr>\n",
              "      <th>2</th>\n",
              "      <td>0.111111</td>\n",
              "      <td>0.500000</td>\n",
              "      <td>0.050847</td>\n",
              "      <td>0.041667</td>\n",
              "      <td>Setosa</td>\n",
              "    </tr>\n",
              "    <tr>\n",
              "      <th>3</th>\n",
              "      <td>0.083333</td>\n",
              "      <td>0.458333</td>\n",
              "      <td>0.084746</td>\n",
              "      <td>0.041667</td>\n",
              "      <td>Setosa</td>\n",
              "    </tr>\n",
              "    <tr>\n",
              "      <th>4</th>\n",
              "      <td>0.194444</td>\n",
              "      <td>0.666667</td>\n",
              "      <td>0.067797</td>\n",
              "      <td>0.041667</td>\n",
              "      <td>Setosa</td>\n",
              "    </tr>\n",
              "  </tbody>\n",
              "</table>\n",
              "</div>\n",
              "      <button class=\"colab-df-convert\" onclick=\"convertToInteractive('df-1e3e3b14-b419-4fb6-afbd-d9d5d70cc165')\"\n",
              "              title=\"Convert this dataframe to an interactive table.\"\n",
              "              style=\"display:none;\">\n",
              "        \n",
              "  <svg xmlns=\"http://www.w3.org/2000/svg\" height=\"24px\"viewBox=\"0 0 24 24\"\n",
              "       width=\"24px\">\n",
              "    <path d=\"M0 0h24v24H0V0z\" fill=\"none\"/>\n",
              "    <path d=\"M18.56 5.44l.94 2.06.94-2.06 2.06-.94-2.06-.94-.94-2.06-.94 2.06-2.06.94zm-11 1L8.5 8.5l.94-2.06 2.06-.94-2.06-.94L8.5 2.5l-.94 2.06-2.06.94zm10 10l.94 2.06.94-2.06 2.06-.94-2.06-.94-.94-2.06-.94 2.06-2.06.94z\"/><path d=\"M17.41 7.96l-1.37-1.37c-.4-.4-.92-.59-1.43-.59-.52 0-1.04.2-1.43.59L10.3 9.45l-7.72 7.72c-.78.78-.78 2.05 0 2.83L4 21.41c.39.39.9.59 1.41.59.51 0 1.02-.2 1.41-.59l7.78-7.78 2.81-2.81c.8-.78.8-2.07 0-2.86zM5.41 20L4 18.59l7.72-7.72 1.47 1.35L5.41 20z\"/>\n",
              "  </svg>\n",
              "      </button>\n",
              "      \n",
              "  <style>\n",
              "    .colab-df-container {\n",
              "      display:flex;\n",
              "      flex-wrap:wrap;\n",
              "      gap: 12px;\n",
              "    }\n",
              "\n",
              "    .colab-df-convert {\n",
              "      background-color: #E8F0FE;\n",
              "      border: none;\n",
              "      border-radius: 50%;\n",
              "      cursor: pointer;\n",
              "      display: none;\n",
              "      fill: #1967D2;\n",
              "      height: 32px;\n",
              "      padding: 0 0 0 0;\n",
              "      width: 32px;\n",
              "    }\n",
              "\n",
              "    .colab-df-convert:hover {\n",
              "      background-color: #E2EBFA;\n",
              "      box-shadow: 0px 1px 2px rgba(60, 64, 67, 0.3), 0px 1px 3px 1px rgba(60, 64, 67, 0.15);\n",
              "      fill: #174EA6;\n",
              "    }\n",
              "\n",
              "    [theme=dark] .colab-df-convert {\n",
              "      background-color: #3B4455;\n",
              "      fill: #D2E3FC;\n",
              "    }\n",
              "\n",
              "    [theme=dark] .colab-df-convert:hover {\n",
              "      background-color: #434B5C;\n",
              "      box-shadow: 0px 1px 3px 1px rgba(0, 0, 0, 0.15);\n",
              "      filter: drop-shadow(0px 1px 2px rgba(0, 0, 0, 0.3));\n",
              "      fill: #FFFFFF;\n",
              "    }\n",
              "  </style>\n",
              "\n",
              "      <script>\n",
              "        const buttonEl =\n",
              "          document.querySelector('#df-1e3e3b14-b419-4fb6-afbd-d9d5d70cc165 button.colab-df-convert');\n",
              "        buttonEl.style.display =\n",
              "          google.colab.kernel.accessAllowed ? 'block' : 'none';\n",
              "\n",
              "        async function convertToInteractive(key) {\n",
              "          const element = document.querySelector('#df-1e3e3b14-b419-4fb6-afbd-d9d5d70cc165');\n",
              "          const dataTable =\n",
              "            await google.colab.kernel.invokeFunction('convertToInteractive',\n",
              "                                                     [key], {});\n",
              "          if (!dataTable) return;\n",
              "\n",
              "          const docLinkHtml = 'Like what you see? Visit the ' +\n",
              "            '<a target=\"_blank\" href=https://colab.research.google.com/notebooks/data_table.ipynb>data table notebook</a>'\n",
              "            + ' to learn more about interactive tables.';\n",
              "          element.innerHTML = '';\n",
              "          dataTable['output_type'] = 'display_data';\n",
              "          await google.colab.output.renderOutput(dataTable, element);\n",
              "          const docLink = document.createElement('div');\n",
              "          docLink.innerHTML = docLinkHtml;\n",
              "          element.appendChild(docLink);\n",
              "        }\n",
              "      </script>\n",
              "    </div>\n",
              "  </div>\n",
              "  "
            ]
          },
          "metadata": {},
          "execution_count": 117
        }
      ]
    },
    {
      "cell_type": "code",
      "source": [
        "import matplotlib.pyplot as plt\n",
        "\n",
        "# Notice x-axis on subplots are all the same for all features (0 to 1) after scaling.\n",
        "fig = plt.figure(figsize=(12,7))\n",
        "fig.suptitle('Frequency Distribution of Features by Species ',fontsize=20)\n",
        "\n",
        "ax1 = fig.add_subplot(221)\n",
        "df.groupby(\"species\").petal_length.plot(kind='hist',alpha=0.8,legend=True,title='Petal Length')\n",
        "\n",
        "ax2 = fig.add_subplot(222,sharey=ax1)\n",
        "df.groupby(\"species\").petal_width.plot(kind='hist',alpha=0.8,legend=True,title='Petal Width')\n",
        "\n",
        "ax3 = fig.add_subplot(223,sharey=ax1)\n",
        "df.groupby(\"species\").sepal_length.plot(kind='hist',alpha=0.8,legend=True,title='Sepal Length')\n",
        "\n",
        "ax4 = fig.add_subplot(224,sharey=ax1)\n",
        "df.groupby(\"species\").sepal_width.plot(kind='hist',alpha=0.7,legend=True,title='Sepal Width')\n",
        "\n",
        "plt.tight_layout(pad=4, w_pad=1, h_pad= .5)\n",
        "plt.show()"
      ],
      "metadata": {
        "colab": {
          "base_uri": "https://localhost:8080/",
          "height": 477
        },
        "id": "WmYdJ29eVnB9",
        "outputId": "6a531472-ff17-4678-ec8d-fc603b39dec1"
      },
      "execution_count": 127,
      "outputs": [
        {
          "output_type": "display_data",
          "data": {
            "text/plain": [
              "<Figure size 864x504 with 4 Axes>"
            ],
            "image/png": "[encoded data removed]"
          },
          "metadata": {}
        }
      ]
    },
    {
      "cell_type": "code",
      "source": [],
      "metadata": {
        "id": "G91CneFoR0Ra"
      },
      "execution_count": null,
      "outputs": []
    }
  ]
}