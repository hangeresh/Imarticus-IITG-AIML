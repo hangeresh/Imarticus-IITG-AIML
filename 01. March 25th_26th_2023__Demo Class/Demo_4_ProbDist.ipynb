{
  "nbformat": 4,
  "nbformat_minor": 0,
  "metadata": {
    "colab": {
      "provenance": []
    },
    "kernelspec": {
      "name": "python3",
      "display_name": "Python 3"
    },
    "language_info": {
      "name": "python"
    }
  },
  "cells": [
    {
      "cell_type": "markdown",
      "source": [
        "# Probability Distributions - Skewness and Kurtosis Plots"
      ],
      "metadata": {
        "id": "pIZg-dFReCca"
      }
    },
    {
      "cell_type": "code",
      "source": [
        "# import required libraries\n",
        "import seaborn as sns\n",
        "import warnings\n",
        "warnings.simplefilter(\"ignore\")\n",
        "\n",
        "import matplotlib.pyplot as plt"
      ],
      "metadata": {
        "id": "TfHViTM2Y2Jl"
      },
      "execution_count": 167,
      "outputs": []
    },
    {
      "cell_type": "markdown",
      "source": [
        "# Uniform Distribution"
      ],
      "metadata": {
        "id": "cVCtlkwRZaDq"
      }
    },
    {
      "cell_type": "code",
      "execution_count": 169,
      "metadata": {
        "colab": {
          "base_uri": "https://localhost:8080/",
          "height": 279
        },
        "id": "kW771tsyYqv0",
        "outputId": "e3f41996-4137-48ef-8feb-13b9eaf86a21"
      },
      "outputs": [
        {
          "output_type": "display_data",
          "data": {
            "text/plain": [
              "<Figure size 432x288 with 1 Axes>"
            ],
            "image/png": "[encoded data removed]"
          },
          "metadata": {
            "needs_background": "light"
          }
        }
      ],
      "source": [
        "from scipy.stats import uniform\n",
        "\n",
        "#taking random variables from uniform distribution\n",
        "data = uniform.rvs(size = 10000, loc = 5, scale = 10)\n",
        "\n",
        "#print(data.size)\n",
        "#print(data)\n",
        "      \n",
        "#plotting the uniform data\n",
        "ax = sns.distplot(data,\n",
        "                  bins = 100,\n",
        "                  color = 'blue',\n",
        "                )\n",
        "ax.set(xlabel = 'Uniform Distribution', ylabel = 'Frequency')\n",
        "\n",
        "plt.show()\n"
      ]
    },
    {
      "cell_type": "markdown",
      "source": [
        "# +++++++++++++++++++++++++++++++++++++++++++++++++++++++++"
      ],
      "metadata": {
        "id": "S31IYMroXjbg"
      }
    },
    {
      "cell_type": "markdown",
      "source": [
        "# Normal Distribution"
      ],
      "metadata": {
        "id": "Z1FaPDCHZDXu"
      }
    },
    {
      "cell_type": "code",
      "source": [
        "from scipy.stats import norm\n",
        "\n",
        "data = norm.rvs(size=10000, loc=0, scale=5)\n",
        "\n",
        "#plotting the  data\n",
        "ax = sns.distplot(data,\n",
        "                  bins=100,\n",
        "                  kde=True,\n",
        "                  color='skyblue',\n",
        "                  hist_kws={\"linewidth\": 15,'alpha':1})\n",
        "\n",
        "ax.set(xlabel='Normal Distribution', ylabel='Frequency')\n",
        "\n",
        "plt.show()\n"
      ],
      "metadata": {
        "colab": {
          "base_uri": "https://localhost:8080/",
          "height": 279
        },
        "id": "g-wKv1LPY_4e",
        "outputId": "6b457755-9413-4340-9278-a27283289522"
      },
      "execution_count": 170,
      "outputs": [
        {
          "output_type": "display_data",
          "data": {
            "text/plain": [
              "<Figure size 432x288 with 1 Axes>"
            ],
            "image/png": "[encoded data removed]"
          },
          "metadata": {
            "needs_background": "light"
          }
        }
      ]
    },
    {
      "cell_type": "markdown",
      "source": [
        "# Alternatively"
      ],
      "metadata": {
        "id": "ClT-SFGSXTXg"
      }
    },
    {
      "cell_type": "code",
      "source": [
        "# defining the libraries\n",
        "import numpy as np\n",
        "import matplotlib.pyplot as plt\n",
        "import pandas as pd\n",
        "%matplotlib inline\n",
        "\n",
        "# No of Data points\n",
        "N = 500\n",
        "\n",
        "# initializing random values\n",
        "data = np.random.randn(N)\n",
        "\n",
        "# getting data of the histogram\n",
        "count, bins_count = np.histogram(data, bins=10)\n"
      ],
      "metadata": {
        "id": "dH50480OXWLZ"
      },
      "execution_count": 143,
      "outputs": []
    },
    {
      "cell_type": "code",
      "source": [
        "np.min(data)"
      ],
      "metadata": {
        "colab": {
          "base_uri": "https://localhost:8080/"
        },
        "id": "3QQDmMLsYz9C",
        "outputId": "ee138468-c662-4bbf-f060-0a53a76d8ed7"
      },
      "execution_count": 160,
      "outputs": [
        {
          "output_type": "execute_result",
          "data": {
            "text/plain": [
              "-3.252314591029305"
            ]
          },
          "metadata": {},
          "execution_count": 160
        }
      ]
    },
    {
      "cell_type": "code",
      "source": [
        "np.max(data)"
      ],
      "metadata": {
        "colab": {
          "base_uri": "https://localhost:8080/"
        },
        "id": "0-pJsVGsaoFq",
        "outputId": "89b69076-002c-4819-e396-b7cacff3d184"
      },
      "execution_count": 161,
      "outputs": [
        {
          "output_type": "execute_result",
          "data": {
            "text/plain": [
              "3.4210490337984374"
            ]
          },
          "metadata": {},
          "execution_count": 161
        }
      ]
    },
    {
      "cell_type": "code",
      "source": [
        "print(count)  # count of values fall within the bin"
      ],
      "metadata": {
        "colab": {
          "base_uri": "https://localhost:8080/"
        },
        "id": "KHF0kYjYXxzJ",
        "outputId": "b884ea1d-39e2-492f-910f-2d847b39b8c1"
      },
      "execution_count": 162,
      "outputs": [
        {
          "output_type": "stream",
          "name": "stdout",
          "text": [
            "[  3   9  42  88 128 121  57  36  14   2]\n"
          ]
        }
      ]
    },
    {
      "cell_type": "code",
      "source": [
        "print(sum(count))  # total number of samples"
      ],
      "metadata": {
        "colab": {
          "base_uri": "https://localhost:8080/"
        },
        "id": "74qrcNYuawLv",
        "outputId": "51fee7dd-b9c7-4b16-8b13-0bc89b57ff45"
      },
      "execution_count": 163,
      "outputs": [
        {
          "output_type": "stream",
          "name": "stdout",
          "text": [
            "500\n"
          ]
        }
      ]
    },
    {
      "cell_type": "code",
      "source": [
        "print(bins_count)  # individual bin boundaries\n",
        "                   # starts with np.min(data)\n",
        "                   # ends with np.max(data)"
      ],
      "metadata": {
        "colab": {
          "base_uri": "https://localhost:8080/"
        },
        "id": "VyMuPK-5a1GT",
        "outputId": "df41d129-a65e-458b-90ca-5c4a7d5eafe6"
      },
      "execution_count": 164,
      "outputs": [
        {
          "output_type": "stream",
          "name": "stdout",
          "text": [
            "[-3.25231459 -2.58497823 -1.91764187 -1.2503055  -0.58296914  0.08436722\n",
            "  0.75170358  1.41903995  2.08637631  2.75371267  3.42104903]\n"
          ]
        }
      ]
    },
    {
      "cell_type": "code",
      "source": [
        "print(len(bins_count)) # number of bins + 1"
      ],
      "metadata": {
        "colab": {
          "base_uri": "https://localhost:8080/"
        },
        "id": "99dlEBhQa3HK",
        "outputId": "39920a21-c7b6-487d-d12a-bd89a0696361"
      },
      "execution_count": 165,
      "outputs": [
        {
          "output_type": "stream",
          "name": "stdout",
          "text": [
            "11\n"
          ]
        }
      ]
    },
    {
      "cell_type": "markdown",
      "source": [
        "# PDF"
      ],
      "metadata": {
        "id": "aXT_Rb5obJ3h"
      }
    },
    {
      "cell_type": "code",
      "source": [
        "# finding the PDF of the histogram using count values\n",
        "pdf = count / sum(count)"
      ],
      "metadata": {
        "id": "wW1utT87XoZg"
      },
      "execution_count": 152,
      "outputs": []
    },
    {
      "cell_type": "code",
      "source": [
        "pdf"
      ],
      "metadata": {
        "colab": {
          "base_uri": "https://localhost:8080/"
        },
        "id": "Oekp_qdNYLG0",
        "outputId": "207f93aa-30f1-44c5-d58d-8679f81960ec"
      },
      "execution_count": 153,
      "outputs": [
        {
          "output_type": "execute_result",
          "data": {
            "text/plain": [
              "array([0.006, 0.018, 0.084, 0.176, 0.256, 0.242, 0.114, 0.072, 0.028,\n",
              "       0.004])"
            ]
          },
          "metadata": {},
          "execution_count": 153
        }
      ]
    },
    {
      "cell_type": "markdown",
      "source": [
        "# CDF"
      ],
      "metadata": {
        "id": "EuuE_D0abSVw"
      }
    },
    {
      "cell_type": "code",
      "source": [
        "# using numpy np.cumsum to calculate the CDF\n",
        "# We can also find using the PDF values by looping and adding\n",
        "cdf = np.cumsum(pdf)"
      ],
      "metadata": {
        "id": "btOiaQT5bRI7"
      },
      "execution_count": null,
      "outputs": []
    },
    {
      "cell_type": "code",
      "source": [
        "cdf"
      ],
      "metadata": {
        "colab": {
          "base_uri": "https://localhost:8080/"
        },
        "id": "GKVe9KoIYIwT",
        "outputId": "6b0a6e0c-7a67-4a0d-9d04-ea783763d6c9"
      },
      "execution_count": 154,
      "outputs": [
        {
          "output_type": "execute_result",
          "data": {
            "text/plain": [
              "array([0.006, 0.024, 0.108, 0.284, 0.54 , 0.782, 0.896, 0.968, 0.996,\n",
              "       1.   ])"
            ]
          },
          "metadata": {},
          "execution_count": 154
        }
      ]
    },
    {
      "cell_type": "markdown",
      "source": [
        "# Plot"
      ],
      "metadata": {
        "id": "_64qaizIba29"
      }
    },
    {
      "cell_type": "code",
      "source": [
        "# plotting PDF and CDF\n",
        "plt.plot(bins_count[1:], pdf, color=\"red\", label=\"PDF\")\n",
        "plt.plot(bins_count[1:], cdf, label=\"CDF\")\n",
        "plt.title('PDF-CDF')"
      ],
      "metadata": {
        "colab": {
          "base_uri": "https://localhost:8080/",
          "height": 298
        },
        "id": "LxWcGU_zXsrS",
        "outputId": "2b1f0ba7-274c-46a9-c485-1d7a4a566587"
      },
      "execution_count": 171,
      "outputs": [
        {
          "output_type": "execute_result",
          "data": {
            "text/plain": [
              "Text(0.5, 1.0, 'PDF-CDF')"
            ]
          },
          "metadata": {},
          "execution_count": 171
        },
        {
          "output_type": "display_data",
          "data": {
            "text/plain": [
              "<Figure size 432x288 with 1 Axes>"
            ],
            "image/png": "[encoded data removed]"
          },
          "metadata": {
            "needs_background": "light"
          }
        }
      ]
    },
    {
      "cell_type": "markdown",
      "source": [
        "# +++++++++++++++++++++++++++++++++++++++++++++++++++++++++"
      ],
      "metadata": {
        "id": "ib-vIjPQXgdg"
      }
    },
    {
      "cell_type": "markdown",
      "source": [
        "# Exponential Distribution"
      ],
      "metadata": {
        "id": "w51fLtG_ZYDf"
      }
    },
    {
      "cell_type": "code",
      "source": [
        "from scipy.stats import expon\n",
        "\n",
        "data = expon.rvs(loc=0, scale=50, size=10000)\n",
        "\n",
        "#plotting the  data\n",
        "ax = sns.distplot(data,\n",
        "                  bins=100,\n",
        "                  kde=True,\n",
        "                  color='skyblue',\n",
        "                )\n",
        "\n",
        "ax.set(xlabel='Exponential Distribution', ylabel='Frequency')\n",
        "\n",
        "plt.show()"
      ],
      "metadata": {
        "colab": {
          "base_uri": "https://localhost:8080/",
          "height": 279
        },
        "id": "-C9S2jhYZO60",
        "outputId": "a179d008-94d0-4c62-9b76-28142f66bdb6"
      },
      "execution_count": 178,
      "outputs": [
        {
          "output_type": "display_data",
          "data": {
            "text/plain": [
              "<Figure size 432x288 with 1 Axes>"
            ],
            "image/png": "[encoded data removed]"
          },
          "metadata": {
            "needs_background": "light"
          }
        }
      ]
    },
    {
      "cell_type": "markdown",
      "source": [
        "\n",
        "# Binomial Distribution"
      ],
      "metadata": {
        "id": "gUfy1zasZU10"
      }
    },
    {
      "cell_type": "code",
      "source": [
        "from scipy.stats import binom\n",
        "\n",
        "data = binom.rvs(n=20, p=0.7, size=10000)\n",
        "\n",
        "#plotting the  data\n",
        "ax = sns.distplot(data,\n",
        "                  bins=100,\n",
        "                  kde=False,\n",
        "                  color='blue',\n",
        "                )\n",
        "\n",
        "ax.set(xlabel='Binomial Distribution', ylabel='Frequency')\n",
        "\n",
        "plt.show()"
      ],
      "metadata": {
        "colab": {
          "base_uri": "https://localhost:8080/",
          "height": 279
        },
        "id": "HBuNqbydZRUW",
        "outputId": "2a08fd07-9b21-4624-c87c-b51bc6ea9d8b"
      },
      "execution_count": 136,
      "outputs": [
        {
          "output_type": "display_data",
          "data": {
            "text/plain": [
              "<Figure size 432x288 with 1 Axes>"
            ],
            "image/png": "[encoded data removed]"
          },
          "metadata": {
            "needs_background": "light"
          }
        }
      ]
    },
    {
      "cell_type": "markdown",
      "source": [
        "# Poisson Distribution"
      ],
      "metadata": {
        "id": "4CNYqf6yZDsz"
      }
    },
    {
      "cell_type": "code",
      "source": [
        "from scipy.stats import poisson\n",
        "\n",
        "data = poisson.rvs(mu=3, size=10000, random_state = 93)\n",
        "\n",
        "#plotting the  data\n",
        "ax = sns.distplot(data,\n",
        "                  bins=100,\n",
        "                  kde=False,\n",
        "                  color='blue',\n",
        "                )\n",
        "\n",
        "ax.set(xlabel='Poisson Distribution', ylabel='Frequency')\n",
        "\n",
        "plt.show()"
      ],
      "metadata": {
        "colab": {
          "base_uri": "https://localhost:8080/",
          "height": 470
        },
        "id": "mqrhhHycZA29",
        "outputId": "bd8defb2-fc79-4fa7-c68a-188a8f463b5a"
      },
      "execution_count": 6,
      "outputs": [
        {
          "output_type": "stream",
          "name": "stderr",
          "text": [
            "<ipython-input-6-db74f579b7c3>:6: UserWarning: \n",
            "\n",
            "`distplot` is a deprecated function and will be removed in seaborn v0.14.0.\n",
            "\n",
            "Please adapt your code to use either `displot` (a figure-level function with\n",
            "similar flexibility) or `histplot` (an axes-level function for histograms).\n",
            "\n",
            "For a guide to updating your code to use the new functions, please see\n",
            "https://gist.github.com/mwaskom/de44147ed2974457ad6372750bbe5751\n",
            "\n",
            "  ax = sns.distplot(data,\n"
          ]
        },
        {
          "output_type": "display_data",
          "data": {
            "text/plain": [
              "<Figure size 432x288 with 1 Axes>"
            ],
            "image/png": "[encoded data removed]"
          },
          "metadata": {
            "needs_background": "light"
          }
        }
      ]
    },
    {
      "cell_type": "markdown",
      "source": [
        "# ++++++++++++++++++++++++++++++++++++++++++++++++++"
      ],
      "metadata": {
        "id": "LW4wZxyJco2U"
      }
    },
    {
      "cell_type": "markdown",
      "source": [
        "# Skewed of Distributions"
      ],
      "metadata": {
        "id": "xGlJsybSclUM"
      }
    },
    {
      "cell_type": "code",
      "source": [
        "import numpy as np\n",
        "from scipy.stats import skewnorm\n",
        "import matplotlib.pyplot as plt\n",
        "fig, ax = plt.subplots(1, 1)\n",
        "\n",
        "# a ia a real number acts as a skewness parameter \n",
        "# When a = 0 the distribution is identical to a normal distribution\n",
        "\n",
        "#a = 10 # positive >> right skew\n",
        "a = -3 # negative >> left skew\n",
        "#a = 0 \n",
        "\n",
        "rv = skewnorm(a)\n",
        "#mean, var, skew, kurt = skewnorm.stats(a, moments='mvsk')\n",
        "\n",
        "x = np.linspace(skewnorm.ppf(0.01, a), skewnorm.ppf(0.99, a), 100)\n",
        "#p_data = skewnorm.pdf(x, a)\n",
        "p_data = rv.pdf(x)\n",
        "\n",
        "# print('Mean = ', mean)\n",
        "# print('Variance = ', var)\n",
        "# print('Skewness = ', skew)\n",
        "# print('Kurtosis = ', kurt)\n",
        "# print(\"\\n\")\n",
        "\n",
        "ax.plot(x, p_data,'r-', lw=5, alpha=0.6, label='skewnorm pdf')\n",
        "plt.show()"
      ],
      "metadata": {
        "colab": {
          "base_uri": "https://localhost:8080/",
          "height": 268
        },
        "id": "q_P9Z1R8d8pI",
        "outputId": "af0fa3f4-d9a3-4e91-f801-c8e6cdf1017d"
      },
      "execution_count": 190,
      "outputs": [
        {
          "output_type": "display_data",
          "data": {
            "text/plain": [
              "<Figure size 432x288 with 1 Axes>"
            ],
            "image/png": "[encoded data removed]"
          },
          "metadata": {
            "needs_background": "light"
          }
        }
      ]
    },
    {
      "cell_type": "markdown",
      "source": [
        "# Checking Normality for a Uniform Distribution"
      ],
      "metadata": {
        "id": "00IZGjV5ghAg"
      }
    },
    {
      "cell_type": "code",
      "source": [
        "import statsmodels.api as sm\n",
        "import matplotlib.pyplot as plt\n",
        "\n",
        "#create dataset of 100 uniformally distributed values\n",
        "data = np.random.uniform(0,1, 1000)\n",
        "\n",
        "#generate Q-Q plot for the dataset\n",
        "fig = sm.qqplot(data, line='45')\n",
        "plt.show()\n"
      ],
      "metadata": {
        "colab": {
          "base_uri": "https://localhost:8080/",
          "height": 279
        },
        "id": "2Vkp8Uwe4YcF",
        "outputId": "35365989-dcad-4248-849a-af17f797babb"
      },
      "execution_count": 191,
      "outputs": [
        {
          "output_type": "display_data",
          "data": {
            "text/plain": [
              "<Figure size 432x288 with 1 Axes>"
            ],
            "image/png": "[encoded data removed]"
          },
          "metadata": {
            "needs_background": "light"
          }
        }
      ]
    },
    {
      "cell_type": "markdown",
      "source": [
        "# But if we sample from a Normal distribution, we get the following Q-Q Plot"
      ],
      "metadata": {
        "id": "1tt9SYDA-dlP"
      }
    },
    {
      "cell_type": "code",
      "source": [
        "# Random data points generated\n",
        "data_points = np.random.normal(0, 1, 100)    \n",
        "\n",
        "sm.qqplot(data_points, line ='45')\n",
        "plt.show()"
      ],
      "metadata": {
        "colab": {
          "base_uri": "https://localhost:8080/",
          "height": 279
        },
        "id": "Es-QxVGV8Gx2",
        "outputId": "8fbc1005-4864-43d1-b6ae-5e6b91e93da8"
      },
      "execution_count": 92,
      "outputs": [
        {
          "output_type": "display_data",
          "data": {
            "text/plain": [
              "<Figure size 432x288 with 1 Axes>"
            ],
            "image/png": "[encoded data removed]"
          },
          "metadata": {
            "needs_background": "light"
          }
        }
      ]
    },
    {
      "cell_type": "markdown",
      "source": [
        "# +++++++++++  DONE ++++++++++++++++++++++++"
      ],
      "metadata": {
        "id": "O3ZfPjeugoxv"
      }
    },
    {
      "cell_type": "code",
      "source": [],
      "metadata": {
        "id": "YQ3W3W4Fgrmq"
      },
      "execution_count": null,
      "outputs": []
    },
    {
      "cell_type": "code",
      "source": [],
      "metadata": {
        "id": "J2XquiJbgrsz"
      },
      "execution_count": null,
      "outputs": []
    },
    {
      "cell_type": "code",
      "source": [],
      "metadata": {
        "id": "2CQJVdksgrvk"
      },
      "execution_count": null,
      "outputs": []
    },
    {
      "cell_type": "code",
      "source": [],
      "metadata": {
        "id": "f90Z8VctgryV"
      },
      "execution_count": null,
      "outputs": []
    },
    {
      "cell_type": "markdown",
      "source": [
        "# Kurtosis of Distribution"
      ],
      "metadata": {
        "id": "AAJI-5gfcagC"
      }
    },
    {
      "cell_type": "code",
      "source": [
        "import matplotlib.pyplot as plt\n",
        "import scipy.stats as stats\n",
        "from scipy.stats import kurtosis\n",
        "import numpy as np\n",
        "\n",
        "x = np.linspace(-5, 5, 100)\n",
        "ax = plt.subplot()\n",
        "\n",
        "distnames = ['laplace', 'norm', 'uniform']\n",
        "\n",
        "for distname in distnames:\n",
        "    if distname == 'uniform':\n",
        "        dist = getattr(stats, distname)(loc=-2, scale=4)\n",
        "    else:\n",
        "        dist = getattr(stats, distname)\n",
        "\n",
        "    data = dist.rvs(size=1000)\n",
        "    kur = kurtosis(data, fisher=True)\n",
        "    y = dist.pdf(x)\n",
        "    ax.plot(x, y, label=\"{}, {}\".format(distname, round(kur, 3)))\n",
        "    ax.legend()\n",
        "    "
      ],
      "metadata": {
        "colab": {
          "base_uri": "https://localhost:8080/",
          "height": 265
        },
        "id": "rq7EPGwxdzsZ",
        "outputId": "7736e47e-62dd-4705-ddcb-8a9874e6abee"
      },
      "execution_count": 2,
      "outputs": [
        {
          "output_type": "display_data",
          "data": {
            "text/plain": [
              "<Figure size 432x288 with 1 Axes>"
            ],
            "image/png": "[encoded data removed]"
          },
          "metadata": {
            "needs_background": "light"
          }
        }
      ]
    },
    {
      "cell_type": "markdown",
      "source": [
        "# Work with Synthetic Data"
      ],
      "metadata": {
        "id": "rDO2JGqt-MhD"
      }
    },
    {
      "cell_type": "code",
      "execution_count": 4,
      "metadata": {
        "colab": {
          "base_uri": "https://localhost:8080/",
          "height": 265
        },
        "id": "7QjlP5SgP5CW",
        "outputId": "cc1ddda7-91b8-4a5c-82ca-a94301ab591d"
      },
      "outputs": [
        {
          "output_type": "display_data",
          "data": {
            "text/plain": [
              "<Figure size 864x288 with 1 Axes>"
            ],
            "image/png": "[encoded data removed]"
          },
          "metadata": {
            "needs_background": "light"
          }
        }
      ],
      "source": [
        "import scipy.stats as stats\n",
        "import numpy as np\n",
        "import matplotlib.pyplot as plt\n",
        "\n",
        "NUM_SAMPLES = 100000\n",
        "SKEW_PARAMS = [-3, 0, 5]\n",
        "\n",
        "def skew_norm_pdf(x,e=0,w=1,a=0):\n",
        "    t = (x-e) / w\n",
        "    return 2.0 * w * stats.norm.pdf(t) * stats.norm.cdf(a*t)\n",
        "\n",
        "# generate the skew normal PDF for reference:\n",
        "location = 0.0\n",
        "scale = 1.0\n",
        "x = np.linspace(-5,5,100) \n",
        "\n",
        "plt.subplots(figsize=(12,4))\n",
        "for alpha_skew in SKEW_PARAMS:\n",
        "    p = skew_norm_pdf(x,location,scale,alpha_skew)\n",
        "    #alpha is a parameter that controls skew, but the 'skewness'\n",
        "    plt.plot(x,p)"
      ]
    },
    {
      "cell_type": "markdown",
      "source": [
        "# Variable Transformation - Exponential to Log"
      ],
      "metadata": {
        "id": "GwhvtpnjdC_t"
      }
    },
    {
      "cell_type": "code",
      "source": [
        "x = np.linspace(1, 5, 5)\n",
        "#data = np.exp(x)\n",
        "data = 2**x\n",
        "\n",
        "#data = np.log(x)\n",
        "#plt.plot(x,data)\n",
        "plt.plot(x,np.log(data))"
      ],
      "metadata": {
        "colab": {
          "base_uri": "https://localhost:8080/",
          "height": 282
        },
        "id": "j73glu7bhxUr",
        "outputId": "48c91e43-238c-4ca1-cbe3-7fbf5699d312"
      },
      "execution_count": 117,
      "outputs": [
        {
          "output_type": "execute_result",
          "data": {
            "text/plain": [
              "[<matplotlib.lines.Line2D at 0x7f080123a850>]"
            ]
          },
          "metadata": {},
          "execution_count": 117
        },
        {
          "output_type": "display_data",
          "data": {
            "text/plain": [
              "<Figure size 432x288 with 1 Axes>"
            ],
            "image/png": "[encoded data removed]"
          },
          "metadata": {
            "needs_background": "light"
          }
        }
      ]
    },
    {
      "cell_type": "code",
      "source": [
        "x*np.log(2)"
      ],
      "metadata": {
        "colab": {
          "base_uri": "https://localhost:8080/"
        },
        "id": "i0ixhEZNAH1A",
        "outputId": "e5c4de90-648d-4021-feab-1fe775d3f25e"
      },
      "execution_count": 115,
      "outputs": [
        {
          "output_type": "execute_result",
          "data": {
            "text/plain": [
              "array([0.69314718, 1.38629436, 2.07944154, 2.77258872, 3.4657359 ])"
            ]
          },
          "metadata": {},
          "execution_count": 115
        }
      ]
    },
    {
      "cell_type": "code",
      "source": [
        "np.log(data)"
      ],
      "metadata": {
        "colab": {
          "base_uri": "https://localhost:8080/"
        },
        "id": "vRGkvkgsASds",
        "outputId": "ce83e9fa-d0e9-4f1a-e336-5ae321d01ca6"
      },
      "execution_count": 116,
      "outputs": [
        {
          "output_type": "execute_result",
          "data": {
            "text/plain": [
              "array([0.69314718, 1.38629436, 2.07944154, 2.77258872, 3.4657359 ])"
            ]
          },
          "metadata": {},
          "execution_count": 116
        }
      ]
    }
  ]
}